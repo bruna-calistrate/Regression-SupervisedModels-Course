{
 "cells": [
  {
   "cell_type": "markdown",
   "metadata": {},
   "source": [
    "# Regressão: Modelos Supervisionados"
   ]
  },
  {
   "cell_type": "code",
   "execution_count": 1,
   "metadata": {},
   "outputs": [],
   "source": [
    "import pandas as pd"
   ]
  },
  {
   "cell_type": "code",
   "execution_count": 3,
   "metadata": {},
   "outputs": [],
   "source": [
    "def predict_table(y, y_pred, columns, residual=False):\n",
    "    \"\"\"Tabela de previsão e cálculo de resíduo do modelo\n",
    "\n",
    "    Args:\n",
    "        y (pd.DataFrame): variável resposta\n",
    "        y_pred (.predict): predição do modelo ajustado dos regressores\n",
    "        columns (list): nome das colunas Real e Previsto\n",
    "        residual (bool, optional): cálculo do residual dos regressores. Defaults to False.\n",
    "\n",
    "    Returns:\n",
    "        pred(pd.DataFrame): base com predição do modelo ajustado\n",
    "    \"\"\"  \n",
    "    \n",
    "    import pandas as pd\n",
    "    \n",
    "    pred = pd.concat([y, pd.Series(y_pred)], axis=1)\n",
    "    pred.columns = columns\n",
    "\n",
    "    if residual is True:\n",
    "        pred['Res'] = pred[columns[0]] - pred[columns[1]]\n",
    "\n",
    "    return pred"
   ]
  },
  {
   "cell_type": "code",
   "execution_count": 4,
   "metadata": {},
   "outputs": [],
   "source": [
    "df = pd.read_excel('https://github.com/bruna-calistrate/Regression-SupervisedModels-Course/blob/main/dataset/Database.xlsx?raw=true', index_col=None)\n"
   ]
  },
  {
   "cell_type": "markdown",
   "metadata": {},
   "source": [
    "## Entendimento dos dados\n",
    "As colunas representam o valor investido em cada canal de marketing"
   ]
  },
  {
   "cell_type": "code",
   "execution_count": 5,
   "metadata": {},
   "outputs": [
    {
     "data": {
      "text/html": [
       "<div>\n",
       "<style scoped>\n",
       "    .dataframe tbody tr th:only-of-type {\n",
       "        vertical-align: middle;\n",
       "    }\n",
       "\n",
       "    .dataframe tbody tr th {\n",
       "        vertical-align: top;\n",
       "    }\n",
       "\n",
       "    .dataframe thead th {\n",
       "        text-align: right;\n",
       "    }\n",
       "</style>\n",
       "<table border=\"1\" class=\"dataframe\">\n",
       "  <thead>\n",
       "    <tr style=\"text-align: right;\">\n",
       "      <th></th>\n",
       "      <th>Branding</th>\n",
       "      <th>DPA 1</th>\n",
       "      <th>DPA 3</th>\n",
       "      <th>DRA 1</th>\n",
       "      <th>DRA 3</th>\n",
       "      <th>Display 1</th>\n",
       "      <th>Display 2</th>\n",
       "      <th>Rmkt 1</th>\n",
       "      <th>Rmkt 3</th>\n",
       "      <th>Rmkt 6</th>\n",
       "      <th>...</th>\n",
       "      <th>Search 6</th>\n",
       "      <th>Shopping 1</th>\n",
       "      <th>Shopping 2</th>\n",
       "      <th>Shopping 3</th>\n",
       "      <th>Shopping 4</th>\n",
       "      <th>Shopping 5</th>\n",
       "      <th>Shopping 6</th>\n",
       "      <th>Shopping 7</th>\n",
       "      <th>Flag</th>\n",
       "      <th>leads</th>\n",
       "    </tr>\n",
       "  </thead>\n",
       "  <tbody>\n",
       "    <tr>\n",
       "      <th>0</th>\n",
       "      <td>67.177647</td>\n",
       "      <td>0.000000</td>\n",
       "      <td>0.0</td>\n",
       "      <td>0.000000</td>\n",
       "      <td>0.00000</td>\n",
       "      <td>552.287329</td>\n",
       "      <td>0.000000</td>\n",
       "      <td>0.000000</td>\n",
       "      <td>0.0</td>\n",
       "      <td>20.519805</td>\n",
       "      <td>...</td>\n",
       "      <td>965.950997</td>\n",
       "      <td>235.222462</td>\n",
       "      <td>0.000000</td>\n",
       "      <td>0.000000</td>\n",
       "      <td>0.000000</td>\n",
       "      <td>0.0</td>\n",
       "      <td>0.000000</td>\n",
       "      <td>0.0</td>\n",
       "      <td>0.0</td>\n",
       "      <td>0.0</td>\n",
       "    </tr>\n",
       "    <tr>\n",
       "      <th>1</th>\n",
       "      <td>3420.885973</td>\n",
       "      <td>8786.139900</td>\n",
       "      <td>0.0</td>\n",
       "      <td>5737.041917</td>\n",
       "      <td>0.00000</td>\n",
       "      <td>2071.136177</td>\n",
       "      <td>1366.977361</td>\n",
       "      <td>35.350204</td>\n",
       "      <td>0.0</td>\n",
       "      <td>25.275315</td>\n",
       "      <td>...</td>\n",
       "      <td>694.082774</td>\n",
       "      <td>2146.834248</td>\n",
       "      <td>531.891351</td>\n",
       "      <td>0.000000</td>\n",
       "      <td>0.000000</td>\n",
       "      <td>0.0</td>\n",
       "      <td>33.396586</td>\n",
       "      <td>0.0</td>\n",
       "      <td>0.0</td>\n",
       "      <td>0.0</td>\n",
       "    </tr>\n",
       "    <tr>\n",
       "      <th>2</th>\n",
       "      <td>4207.942789</td>\n",
       "      <td>6004.475770</td>\n",
       "      <td>0.0</td>\n",
       "      <td>12306.358005</td>\n",
       "      <td>0.00000</td>\n",
       "      <td>4229.737244</td>\n",
       "      <td>2713.175424</td>\n",
       "      <td>206.891574</td>\n",
       "      <td>0.0</td>\n",
       "      <td>38.460050</td>\n",
       "      <td>...</td>\n",
       "      <td>2539.484046</td>\n",
       "      <td>2261.165457</td>\n",
       "      <td>2069.699426</td>\n",
       "      <td>282.404050</td>\n",
       "      <td>102.513534</td>\n",
       "      <td>0.0</td>\n",
       "      <td>380.934946</td>\n",
       "      <td>0.0</td>\n",
       "      <td>0.0</td>\n",
       "      <td>0.0</td>\n",
       "    </tr>\n",
       "    <tr>\n",
       "      <th>3</th>\n",
       "      <td>6328.724014</td>\n",
       "      <td>359.465712</td>\n",
       "      <td>0.0</td>\n",
       "      <td>0.000000</td>\n",
       "      <td>34.94577</td>\n",
       "      <td>4829.948289</td>\n",
       "      <td>1913.018103</td>\n",
       "      <td>88.015632</td>\n",
       "      <td>0.0</td>\n",
       "      <td>33.366603</td>\n",
       "      <td>...</td>\n",
       "      <td>559.289987</td>\n",
       "      <td>765.482371</td>\n",
       "      <td>2259.469113</td>\n",
       "      <td>197.917148</td>\n",
       "      <td>197.164612</td>\n",
       "      <td>0.0</td>\n",
       "      <td>66.560108</td>\n",
       "      <td>0.0</td>\n",
       "      <td>0.0</td>\n",
       "      <td>0.0</td>\n",
       "    </tr>\n",
       "    <tr>\n",
       "      <th>4</th>\n",
       "      <td>2165.951657</td>\n",
       "      <td>1637.755671</td>\n",
       "      <td>0.0</td>\n",
       "      <td>727.490691</td>\n",
       "      <td>0.00000</td>\n",
       "      <td>4956.284104</td>\n",
       "      <td>1766.960185</td>\n",
       "      <td>749.291333</td>\n",
       "      <td>0.0</td>\n",
       "      <td>34.499781</td>\n",
       "      <td>...</td>\n",
       "      <td>421.522216</td>\n",
       "      <td>257.384030</td>\n",
       "      <td>3518.026591</td>\n",
       "      <td>272.718801</td>\n",
       "      <td>1033.278842</td>\n",
       "      <td>0.0</td>\n",
       "      <td>55.112592</td>\n",
       "      <td>0.0</td>\n",
       "      <td>1.0</td>\n",
       "      <td>0.0</td>\n",
       "    </tr>\n",
       "  </tbody>\n",
       "</table>\n",
       "<p>5 rows × 26 columns</p>\n",
       "</div>"
      ],
      "text/plain": [
       "      Branding        DPA 1  DPA 3         DRA 1     DRA 3    Display 1  \\\n",
       "0    67.177647     0.000000    0.0      0.000000   0.00000   552.287329   \n",
       "1  3420.885973  8786.139900    0.0   5737.041917   0.00000  2071.136177   \n",
       "2  4207.942789  6004.475770    0.0  12306.358005   0.00000  4229.737244   \n",
       "3  6328.724014   359.465712    0.0      0.000000  34.94577  4829.948289   \n",
       "4  2165.951657  1637.755671    0.0    727.490691   0.00000  4956.284104   \n",
       "\n",
       "     Display 2      Rmkt 1  Rmkt 3     Rmkt 6  ...     Search 6   Shopping 1  \\\n",
       "0     0.000000    0.000000     0.0  20.519805  ...   965.950997   235.222462   \n",
       "1  1366.977361   35.350204     0.0  25.275315  ...   694.082774  2146.834248   \n",
       "2  2713.175424  206.891574     0.0  38.460050  ...  2539.484046  2261.165457   \n",
       "3  1913.018103   88.015632     0.0  33.366603  ...   559.289987   765.482371   \n",
       "4  1766.960185  749.291333     0.0  34.499781  ...   421.522216   257.384030   \n",
       "\n",
       "    Shopping 2  Shopping 3   Shopping 4  Shopping 5  Shopping 6  Shopping 7  \\\n",
       "0     0.000000    0.000000     0.000000         0.0    0.000000         0.0   \n",
       "1   531.891351    0.000000     0.000000         0.0   33.396586         0.0   \n",
       "2  2069.699426  282.404050   102.513534         0.0  380.934946         0.0   \n",
       "3  2259.469113  197.917148   197.164612         0.0   66.560108         0.0   \n",
       "4  3518.026591  272.718801  1033.278842         0.0   55.112592         0.0   \n",
       "\n",
       "   Flag  leads  \n",
       "0   0.0    0.0  \n",
       "1   0.0    0.0  \n",
       "2   0.0    0.0  \n",
       "3   0.0    0.0  \n",
       "4   1.0    0.0  \n",
       "\n",
       "[5 rows x 26 columns]"
      ]
     },
     "execution_count": 5,
     "metadata": {},
     "output_type": "execute_result"
    }
   ],
   "source": [
    "df.head()"
   ]
  },
  {
   "cell_type": "markdown",
   "metadata": {},
   "source": [
    "Base de dados não possui valores nulos"
   ]
  },
  {
   "cell_type": "code",
   "execution_count": 6,
   "metadata": {},
   "outputs": [
    {
     "name": "stdout",
     "output_type": "stream",
     "text": [
      "<class 'pandas.core.frame.DataFrame'>\n",
      "RangeIndex: 560 entries, 0 to 559\n",
      "Data columns (total 26 columns):\n",
      " #   Column      Non-Null Count  Dtype  \n",
      "---  ------      --------------  -----  \n",
      " 0   Branding    560 non-null    float64\n",
      " 1   DPA 1       560 non-null    float64\n",
      " 2   DPA 3       560 non-null    float64\n",
      " 3   DRA 1       560 non-null    float64\n",
      " 4   DRA 3       560 non-null    float64\n",
      " 5   Display 1   560 non-null    float64\n",
      " 6   Display 2   560 non-null    float64\n",
      " 7   Rmkt 1      560 non-null    float64\n",
      " 8   Rmkt 3      560 non-null    float64\n",
      " 9   Rmkt 6      560 non-null    float64\n",
      " 10  Rmkt 7      560 non-null    float64\n",
      " 11  Search 1    560 non-null    float64\n",
      " 12  Search 2    560 non-null    float64\n",
      " 13  Search 3    560 non-null    float64\n",
      " 14  Search 4    560 non-null    float64\n",
      " 15  Search 5    560 non-null    float64\n",
      " 16  Search 6    560 non-null    float64\n",
      " 17  Shopping 1  560 non-null    float64\n",
      " 18  Shopping 2  560 non-null    float64\n",
      " 19  Shopping 3  560 non-null    float64\n",
      " 20  Shopping 4  560 non-null    float64\n",
      " 21  Shopping 5  560 non-null    float64\n",
      " 22  Shopping 6  560 non-null    float64\n",
      " 23  Shopping 7  560 non-null    float64\n",
      " 24  Flag        560 non-null    float64\n",
      " 25  leads       560 non-null    float64\n",
      "dtypes: float64(26)\n",
      "memory usage: 113.9 KB\n"
     ]
    }
   ],
   "source": [
    "df.info()"
   ]
  },
  {
   "cell_type": "code",
   "execution_count": 7,
   "metadata": {},
   "outputs": [
    {
     "data": {
      "text/html": [
       "<div>\n",
       "<style scoped>\n",
       "    .dataframe tbody tr th:only-of-type {\n",
       "        vertical-align: middle;\n",
       "    }\n",
       "\n",
       "    .dataframe tbody tr th {\n",
       "        vertical-align: top;\n",
       "    }\n",
       "\n",
       "    .dataframe thead th {\n",
       "        text-align: right;\n",
       "    }\n",
       "</style>\n",
       "<table border=\"1\" class=\"dataframe\">\n",
       "  <thead>\n",
       "    <tr style=\"text-align: right;\">\n",
       "      <th></th>\n",
       "      <th>count</th>\n",
       "      <th>mean</th>\n",
       "      <th>std</th>\n",
       "      <th>min</th>\n",
       "      <th>25%</th>\n",
       "      <th>50%</th>\n",
       "      <th>75%</th>\n",
       "      <th>max</th>\n",
       "    </tr>\n",
       "  </thead>\n",
       "  <tbody>\n",
       "    <tr>\n",
       "      <th>Branding</th>\n",
       "      <td>560.0</td>\n",
       "      <td>8018.473185</td>\n",
       "      <td>6802.185097</td>\n",
       "      <td>67.177647</td>\n",
       "      <td>2973.526173</td>\n",
       "      <td>6101.762570</td>\n",
       "      <td>10516.815208</td>\n",
       "      <td>30476.144041</td>\n",
       "    </tr>\n",
       "    <tr>\n",
       "      <th>DPA 1</th>\n",
       "      <td>560.0</td>\n",
       "      <td>25015.815670</td>\n",
       "      <td>25644.786073</td>\n",
       "      <td>0.000000</td>\n",
       "      <td>6309.481809</td>\n",
       "      <td>15686.267265</td>\n",
       "      <td>33235.285301</td>\n",
       "      <td>109287.228006</td>\n",
       "    </tr>\n",
       "    <tr>\n",
       "      <th>DPA 3</th>\n",
       "      <td>560.0</td>\n",
       "      <td>26.978608</td>\n",
       "      <td>64.612735</td>\n",
       "      <td>0.000000</td>\n",
       "      <td>0.000000</td>\n",
       "      <td>0.000000</td>\n",
       "      <td>0.000000</td>\n",
       "      <td>427.513312</td>\n",
       "    </tr>\n",
       "    <tr>\n",
       "      <th>DRA 1</th>\n",
       "      <td>560.0</td>\n",
       "      <td>1954.799712</td>\n",
       "      <td>3219.661711</td>\n",
       "      <td>0.000000</td>\n",
       "      <td>0.000000</td>\n",
       "      <td>514.110000</td>\n",
       "      <td>2409.695612</td>\n",
       "      <td>16634.053759</td>\n",
       "    </tr>\n",
       "    <tr>\n",
       "      <th>DRA 3</th>\n",
       "      <td>560.0</td>\n",
       "      <td>5.552829</td>\n",
       "      <td>20.439290</td>\n",
       "      <td>0.000000</td>\n",
       "      <td>0.000000</td>\n",
       "      <td>0.000000</td>\n",
       "      <td>0.000000</td>\n",
       "      <td>198.261380</td>\n",
       "    </tr>\n",
       "    <tr>\n",
       "      <th>Display 1</th>\n",
       "      <td>560.0</td>\n",
       "      <td>34192.720789</td>\n",
       "      <td>47434.090203</td>\n",
       "      <td>492.680182</td>\n",
       "      <td>5230.974739</td>\n",
       "      <td>15923.995225</td>\n",
       "      <td>44262.053403</td>\n",
       "      <td>476825.705107</td>\n",
       "    </tr>\n",
       "    <tr>\n",
       "      <th>Display 2</th>\n",
       "      <td>560.0</td>\n",
       "      <td>16278.202340</td>\n",
       "      <td>16267.133740</td>\n",
       "      <td>0.000000</td>\n",
       "      <td>3458.904764</td>\n",
       "      <td>9652.848213</td>\n",
       "      <td>25343.706212</td>\n",
       "      <td>68852.222277</td>\n",
       "    </tr>\n",
       "    <tr>\n",
       "      <th>Rmkt 1</th>\n",
       "      <td>560.0</td>\n",
       "      <td>1905.845969</td>\n",
       "      <td>1601.399285</td>\n",
       "      <td>0.000000</td>\n",
       "      <td>646.219133</td>\n",
       "      <td>1551.087007</td>\n",
       "      <td>2705.543290</td>\n",
       "      <td>9482.094034</td>\n",
       "    </tr>\n",
       "    <tr>\n",
       "      <th>Rmkt 3</th>\n",
       "      <td>560.0</td>\n",
       "      <td>9.302894</td>\n",
       "      <td>10.890705</td>\n",
       "      <td>0.000000</td>\n",
       "      <td>0.000000</td>\n",
       "      <td>0.000000</td>\n",
       "      <td>15.704347</td>\n",
       "      <td>62.735130</td>\n",
       "    </tr>\n",
       "    <tr>\n",
       "      <th>Rmkt 6</th>\n",
       "      <td>560.0</td>\n",
       "      <td>19.651566</td>\n",
       "      <td>17.149563</td>\n",
       "      <td>0.000000</td>\n",
       "      <td>0.000000</td>\n",
       "      <td>32.727023</td>\n",
       "      <td>34.283449</td>\n",
       "      <td>55.557208</td>\n",
       "    </tr>\n",
       "    <tr>\n",
       "      <th>Rmkt 7</th>\n",
       "      <td>560.0</td>\n",
       "      <td>93.451392</td>\n",
       "      <td>341.998038</td>\n",
       "      <td>0.000000</td>\n",
       "      <td>0.000000</td>\n",
       "      <td>0.000000</td>\n",
       "      <td>0.000000</td>\n",
       "      <td>1819.524402</td>\n",
       "    </tr>\n",
       "    <tr>\n",
       "      <th>Search 1</th>\n",
       "      <td>560.0</td>\n",
       "      <td>9429.370786</td>\n",
       "      <td>11754.151029</td>\n",
       "      <td>0.000000</td>\n",
       "      <td>1822.312592</td>\n",
       "      <td>4232.379728</td>\n",
       "      <td>10989.702759</td>\n",
       "      <td>49960.167870</td>\n",
       "    </tr>\n",
       "    <tr>\n",
       "      <th>Search 2</th>\n",
       "      <td>560.0</td>\n",
       "      <td>4874.770744</td>\n",
       "      <td>4843.540430</td>\n",
       "      <td>205.753677</td>\n",
       "      <td>1202.594587</td>\n",
       "      <td>3249.990921</td>\n",
       "      <td>6459.115239</td>\n",
       "      <td>25541.615442</td>\n",
       "    </tr>\n",
       "    <tr>\n",
       "      <th>Search 3</th>\n",
       "      <td>560.0</td>\n",
       "      <td>93.049063</td>\n",
       "      <td>75.014033</td>\n",
       "      <td>2.789904</td>\n",
       "      <td>47.227858</td>\n",
       "      <td>67.499216</td>\n",
       "      <td>116.216279</td>\n",
       "      <td>571.738304</td>\n",
       "    </tr>\n",
       "    <tr>\n",
       "      <th>Search 4</th>\n",
       "      <td>560.0</td>\n",
       "      <td>317.123483</td>\n",
       "      <td>539.097701</td>\n",
       "      <td>0.000000</td>\n",
       "      <td>0.000000</td>\n",
       "      <td>0.000000</td>\n",
       "      <td>486.613683</td>\n",
       "      <td>2969.437667</td>\n",
       "    </tr>\n",
       "    <tr>\n",
       "      <th>Search 5</th>\n",
       "      <td>560.0</td>\n",
       "      <td>6075.634527</td>\n",
       "      <td>8077.900527</td>\n",
       "      <td>0.000000</td>\n",
       "      <td>0.000000</td>\n",
       "      <td>1381.447844</td>\n",
       "      <td>12725.881362</td>\n",
       "      <td>36737.162703</td>\n",
       "    </tr>\n",
       "    <tr>\n",
       "      <th>Search 6</th>\n",
       "      <td>560.0</td>\n",
       "      <td>1441.044956</td>\n",
       "      <td>814.719657</td>\n",
       "      <td>322.929628</td>\n",
       "      <td>845.258533</td>\n",
       "      <td>1205.834723</td>\n",
       "      <td>1866.071922</td>\n",
       "      <td>4774.594408</td>\n",
       "    </tr>\n",
       "    <tr>\n",
       "      <th>Shopping 1</th>\n",
       "      <td>560.0</td>\n",
       "      <td>10414.923629</td>\n",
       "      <td>12015.736457</td>\n",
       "      <td>66.251642</td>\n",
       "      <td>1381.497541</td>\n",
       "      <td>5005.035946</td>\n",
       "      <td>15522.041680</td>\n",
       "      <td>52292.554973</td>\n",
       "    </tr>\n",
       "    <tr>\n",
       "      <th>Shopping 2</th>\n",
       "      <td>560.0</td>\n",
       "      <td>19656.574140</td>\n",
       "      <td>13267.717379</td>\n",
       "      <td>0.000000</td>\n",
       "      <td>9485.258387</td>\n",
       "      <td>18031.337938</td>\n",
       "      <td>27270.099596</td>\n",
       "      <td>59275.553543</td>\n",
       "    </tr>\n",
       "    <tr>\n",
       "      <th>Shopping 3</th>\n",
       "      <td>560.0</td>\n",
       "      <td>150.061667</td>\n",
       "      <td>143.983688</td>\n",
       "      <td>0.000000</td>\n",
       "      <td>56.645965</td>\n",
       "      <td>80.317257</td>\n",
       "      <td>203.996532</td>\n",
       "      <td>725.415749</td>\n",
       "    </tr>\n",
       "    <tr>\n",
       "      <th>Shopping 4</th>\n",
       "      <td>560.0</td>\n",
       "      <td>303.287431</td>\n",
       "      <td>410.288634</td>\n",
       "      <td>0.000000</td>\n",
       "      <td>0.000000</td>\n",
       "      <td>0.000000</td>\n",
       "      <td>592.287280</td>\n",
       "      <td>1570.057666</td>\n",
       "    </tr>\n",
       "    <tr>\n",
       "      <th>Shopping 5</th>\n",
       "      <td>560.0</td>\n",
       "      <td>723.676824</td>\n",
       "      <td>1242.794459</td>\n",
       "      <td>0.000000</td>\n",
       "      <td>0.000000</td>\n",
       "      <td>0.000000</td>\n",
       "      <td>1197.118108</td>\n",
       "      <td>6085.899894</td>\n",
       "    </tr>\n",
       "    <tr>\n",
       "      <th>Shopping 6</th>\n",
       "      <td>560.0</td>\n",
       "      <td>55.289752</td>\n",
       "      <td>127.064023</td>\n",
       "      <td>0.000000</td>\n",
       "      <td>0.000000</td>\n",
       "      <td>0.000000</td>\n",
       "      <td>53.885583</td>\n",
       "      <td>606.629236</td>\n",
       "    </tr>\n",
       "    <tr>\n",
       "      <th>Shopping 7</th>\n",
       "      <td>560.0</td>\n",
       "      <td>6.214189</td>\n",
       "      <td>43.283801</td>\n",
       "      <td>0.000000</td>\n",
       "      <td>0.000000</td>\n",
       "      <td>0.000000</td>\n",
       "      <td>0.000000</td>\n",
       "      <td>362.486170</td>\n",
       "    </tr>\n",
       "    <tr>\n",
       "      <th>Flag</th>\n",
       "      <td>560.0</td>\n",
       "      <td>0.135714</td>\n",
       "      <td>0.342791</td>\n",
       "      <td>0.000000</td>\n",
       "      <td>0.000000</td>\n",
       "      <td>0.000000</td>\n",
       "      <td>0.000000</td>\n",
       "      <td>1.000000</td>\n",
       "    </tr>\n",
       "    <tr>\n",
       "      <th>leads</th>\n",
       "      <td>560.0</td>\n",
       "      <td>356.350000</td>\n",
       "      <td>340.442775</td>\n",
       "      <td>0.000000</td>\n",
       "      <td>96.250000</td>\n",
       "      <td>244.000000</td>\n",
       "      <td>525.000000</td>\n",
       "      <td>1880.000000</td>\n",
       "    </tr>\n",
       "  </tbody>\n",
       "</table>\n",
       "</div>"
      ],
      "text/plain": [
       "            count          mean           std         min          25%  \\\n",
       "Branding    560.0   8018.473185   6802.185097   67.177647  2973.526173   \n",
       "DPA 1       560.0  25015.815670  25644.786073    0.000000  6309.481809   \n",
       "DPA 3       560.0     26.978608     64.612735    0.000000     0.000000   \n",
       "DRA 1       560.0   1954.799712   3219.661711    0.000000     0.000000   \n",
       "DRA 3       560.0      5.552829     20.439290    0.000000     0.000000   \n",
       "Display 1   560.0  34192.720789  47434.090203  492.680182  5230.974739   \n",
       "Display 2   560.0  16278.202340  16267.133740    0.000000  3458.904764   \n",
       "Rmkt 1      560.0   1905.845969   1601.399285    0.000000   646.219133   \n",
       "Rmkt 3      560.0      9.302894     10.890705    0.000000     0.000000   \n",
       "Rmkt 6      560.0     19.651566     17.149563    0.000000     0.000000   \n",
       "Rmkt 7      560.0     93.451392    341.998038    0.000000     0.000000   \n",
       "Search 1    560.0   9429.370786  11754.151029    0.000000  1822.312592   \n",
       "Search 2    560.0   4874.770744   4843.540430  205.753677  1202.594587   \n",
       "Search 3    560.0     93.049063     75.014033    2.789904    47.227858   \n",
       "Search 4    560.0    317.123483    539.097701    0.000000     0.000000   \n",
       "Search 5    560.0   6075.634527   8077.900527    0.000000     0.000000   \n",
       "Search 6    560.0   1441.044956    814.719657  322.929628   845.258533   \n",
       "Shopping 1  560.0  10414.923629  12015.736457   66.251642  1381.497541   \n",
       "Shopping 2  560.0  19656.574140  13267.717379    0.000000  9485.258387   \n",
       "Shopping 3  560.0    150.061667    143.983688    0.000000    56.645965   \n",
       "Shopping 4  560.0    303.287431    410.288634    0.000000     0.000000   \n",
       "Shopping 5  560.0    723.676824   1242.794459    0.000000     0.000000   \n",
       "Shopping 6  560.0     55.289752    127.064023    0.000000     0.000000   \n",
       "Shopping 7  560.0      6.214189     43.283801    0.000000     0.000000   \n",
       "Flag        560.0      0.135714      0.342791    0.000000     0.000000   \n",
       "leads       560.0    356.350000    340.442775    0.000000    96.250000   \n",
       "\n",
       "                     50%           75%            max  \n",
       "Branding     6101.762570  10516.815208   30476.144041  \n",
       "DPA 1       15686.267265  33235.285301  109287.228006  \n",
       "DPA 3           0.000000      0.000000     427.513312  \n",
       "DRA 1         514.110000   2409.695612   16634.053759  \n",
       "DRA 3           0.000000      0.000000     198.261380  \n",
       "Display 1   15923.995225  44262.053403  476825.705107  \n",
       "Display 2    9652.848213  25343.706212   68852.222277  \n",
       "Rmkt 1       1551.087007   2705.543290    9482.094034  \n",
       "Rmkt 3          0.000000     15.704347      62.735130  \n",
       "Rmkt 6         32.727023     34.283449      55.557208  \n",
       "Rmkt 7          0.000000      0.000000    1819.524402  \n",
       "Search 1     4232.379728  10989.702759   49960.167870  \n",
       "Search 2     3249.990921   6459.115239   25541.615442  \n",
       "Search 3       67.499216    116.216279     571.738304  \n",
       "Search 4        0.000000    486.613683    2969.437667  \n",
       "Search 5     1381.447844  12725.881362   36737.162703  \n",
       "Search 6     1205.834723   1866.071922    4774.594408  \n",
       "Shopping 1   5005.035946  15522.041680   52292.554973  \n",
       "Shopping 2  18031.337938  27270.099596   59275.553543  \n",
       "Shopping 3     80.317257    203.996532     725.415749  \n",
       "Shopping 4      0.000000    592.287280    1570.057666  \n",
       "Shopping 5      0.000000   1197.118108    6085.899894  \n",
       "Shopping 6      0.000000     53.885583     606.629236  \n",
       "Shopping 7      0.000000      0.000000     362.486170  \n",
       "Flag            0.000000      0.000000       1.000000  \n",
       "leads         244.000000    525.000000    1880.000000  "
      ]
     },
     "execution_count": 7,
     "metadata": {},
     "output_type": "execute_result"
    }
   ],
   "source": [
    "df.describe().T"
   ]
  },
  {
   "cell_type": "code",
   "execution_count": 8,
   "metadata": {},
   "outputs": [
    {
     "data": {
      "text/plain": [
       "0.0    484\n",
       "1.0     76\n",
       "Name: Flag, dtype: int64"
      ]
     },
     "execution_count": 8,
     "metadata": {},
     "output_type": "execute_result"
    }
   ],
   "source": [
    "df['Flag'].value_counts()"
   ]
  },
  {
   "cell_type": "markdown",
   "metadata": {},
   "source": [
    "Deseja-se prever a quantidade de Leads são obtidos em cada estratégia, portanto essa é a variável dependente Y"
   ]
  },
  {
   "cell_type": "code",
   "execution_count": 9,
   "metadata": {},
   "outputs": [],
   "source": [
    "y = df['leads']\n",
    "x = df.drop(columns=['leads'], axis=1)"
   ]
  },
  {
   "cell_type": "markdown",
   "metadata": {},
   "source": [
    "## Separar o dataset em teste e treino\n",
    "https://scikit-learn.org/stable/modules/generated/sklearn.model_selection.train_test_split.html?highlight=train%20test#sklearn.model_selection.train_test_split"
   ]
  },
  {
   "cell_type": "code",
   "execution_count": 2,
   "metadata": {},
   "outputs": [],
   "source": [
    "from sklearn.model_selection import train_test_split"
   ]
  },
  {
   "cell_type": "code",
   "execution_count": 11,
   "metadata": {},
   "outputs": [],
   "source": [
    "x_train, x_test, y_train, y_test = train_test_split(x, y, test_size=0.33, random_state=42)"
   ]
  },
  {
   "cell_type": "markdown",
   "metadata": {},
   "source": [
    "Resetar o index"
   ]
  },
  {
   "cell_type": "code",
   "execution_count": 12,
   "metadata": {},
   "outputs": [],
   "source": [
    "data = (x_train, x_test, y_train, y_test)\n",
    "\n",
    "for d in data:\n",
    "    d.reset_index(drop=True, inplace=True)"
   ]
  },
  {
   "cell_type": "markdown",
   "metadata": {},
   "source": [
    "## Regressão Linear Simples\n",
    "\n",
    "Biblioteca: https://scikit-learn.org/stable/modules/generated/sklearn.linear_model.LinearRegression.html#sklearn.linear_model.LinearRegression"
   ]
  },
  {
   "cell_type": "code",
   "execution_count": 3,
   "metadata": {},
   "outputs": [],
   "source": [
    "from sklearn.linear_model import LinearRegression"
   ]
  },
  {
   "cell_type": "markdown",
   "metadata": {},
   "source": [
    "Realizar a regressão com os dados de treino"
   ]
  },
  {
   "cell_type": "code",
   "execution_count": 14,
   "metadata": {},
   "outputs": [],
   "source": [
    "reg = LinearRegression().fit(x_train, y_train)"
   ]
  },
  {
   "cell_type": "markdown",
   "metadata": {},
   "source": [
    "Coeficientes da regressão"
   ]
  },
  {
   "cell_type": "code",
   "execution_count": 15,
   "metadata": {},
   "outputs": [
    {
     "data": {
      "text/plain": [
       "array([ 3.55444036e-03,  1.90427397e-04,  2.39920088e-01, -4.10656529e-03,\n",
       "       -7.09348856e-01,  1.04235072e-03,  3.72026521e-03,  2.91285396e-03,\n",
       "       -5.90164285e-02, -1.89706497e+00, -9.42008880e-02,  1.54566812e-04,\n",
       "        9.53813043e-03, -1.73199767e-01,  2.59109612e-03, -3.21053650e-03,\n",
       "        1.87552382e-02, -1.03587346e-03,  3.48171141e-03, -1.84627780e-02,\n",
       "        1.61165745e-02,  3.84104619e-02, -1.76096069e-02, -1.54673082e-03,\n",
       "       -1.14886205e+02])"
      ]
     },
     "execution_count": 15,
     "metadata": {},
     "output_type": "execute_result"
    }
   ],
   "source": [
    "reg.coef_"
   ]
  },
  {
   "cell_type": "markdown",
   "metadata": {},
   "source": [
    "Realizar previsões"
   ]
  },
  {
   "cell_type": "code",
   "execution_count": 16,
   "metadata": {},
   "outputs": [
    {
     "data": {
      "text/plain": [
       "array([309.2604228 , 370.71469003, 118.92137025, 225.57773711,\n",
       "       338.99087828])"
      ]
     },
     "execution_count": 16,
     "metadata": {},
     "output_type": "execute_result"
    }
   ],
   "source": [
    "y_pred = reg.predict(x_test)\n",
    "y_pred[:5]"
   ]
  },
  {
   "cell_type": "code",
   "execution_count": 17,
   "metadata": {},
   "outputs": [
    {
     "data": {
      "text/html": [
       "<div>\n",
       "<style scoped>\n",
       "    .dataframe tbody tr th:only-of-type {\n",
       "        vertical-align: middle;\n",
       "    }\n",
       "\n",
       "    .dataframe tbody tr th {\n",
       "        vertical-align: top;\n",
       "    }\n",
       "\n",
       "    .dataframe thead th {\n",
       "        text-align: right;\n",
       "    }\n",
       "</style>\n",
       "<table border=\"1\" class=\"dataframe\">\n",
       "  <thead>\n",
       "    <tr style=\"text-align: right;\">\n",
       "      <th></th>\n",
       "      <th>Real</th>\n",
       "      <th>Previsto</th>\n",
       "      <th>Res</th>\n",
       "    </tr>\n",
       "  </thead>\n",
       "  <tbody>\n",
       "    <tr>\n",
       "      <th>0</th>\n",
       "      <td>645.0</td>\n",
       "      <td>309.260423</td>\n",
       "      <td>335.739577</td>\n",
       "    </tr>\n",
       "    <tr>\n",
       "      <th>1</th>\n",
       "      <td>361.0</td>\n",
       "      <td>370.714690</td>\n",
       "      <td>-9.714690</td>\n",
       "    </tr>\n",
       "    <tr>\n",
       "      <th>2</th>\n",
       "      <td>123.0</td>\n",
       "      <td>118.921370</td>\n",
       "      <td>4.078630</td>\n",
       "    </tr>\n",
       "    <tr>\n",
       "      <th>3</th>\n",
       "      <td>63.0</td>\n",
       "      <td>225.577737</td>\n",
       "      <td>-162.577737</td>\n",
       "    </tr>\n",
       "    <tr>\n",
       "      <th>4</th>\n",
       "      <td>343.0</td>\n",
       "      <td>338.990878</td>\n",
       "      <td>4.009122</td>\n",
       "    </tr>\n",
       "  </tbody>\n",
       "</table>\n",
       "</div>"
      ],
      "text/plain": [
       "    Real    Previsto         Res\n",
       "0  645.0  309.260423  335.739577\n",
       "1  361.0  370.714690   -9.714690\n",
       "2  123.0  118.921370    4.078630\n",
       "3   63.0  225.577737 -162.577737\n",
       "4  343.0  338.990878    4.009122"
      ]
     },
     "execution_count": 17,
     "metadata": {},
     "output_type": "execute_result"
    }
   ],
   "source": [
    "predict_table(y=y_test,\n",
    "              y_pred=y_pred,\n",
    "              columns=['Real', 'Previsto'],\n",
    "              residual=True).head()"
   ]
  },
  {
   "cell_type": "markdown",
   "metadata": {},
   "source": [
    "Visualizando a base de teste para procurar as diferenças"
   ]
  },
  {
   "cell_type": "code",
   "execution_count": 18,
   "metadata": {},
   "outputs": [
    {
     "data": {
      "text/html": [
       "<div>\n",
       "<style scoped>\n",
       "    .dataframe tbody tr th:only-of-type {\n",
       "        vertical-align: middle;\n",
       "    }\n",
       "\n",
       "    .dataframe tbody tr th {\n",
       "        vertical-align: top;\n",
       "    }\n",
       "\n",
       "    .dataframe thead th {\n",
       "        text-align: right;\n",
       "    }\n",
       "</style>\n",
       "<table border=\"1\" class=\"dataframe\">\n",
       "  <thead>\n",
       "    <tr style=\"text-align: right;\">\n",
       "      <th></th>\n",
       "      <th>Branding</th>\n",
       "      <th>DPA 1</th>\n",
       "      <th>DPA 3</th>\n",
       "      <th>DRA 1</th>\n",
       "      <th>DRA 3</th>\n",
       "      <th>Display 1</th>\n",
       "      <th>Display 2</th>\n",
       "      <th>Rmkt 1</th>\n",
       "      <th>Rmkt 3</th>\n",
       "      <th>Rmkt 6</th>\n",
       "      <th>...</th>\n",
       "      <th>Search 5</th>\n",
       "      <th>Search 6</th>\n",
       "      <th>Shopping 1</th>\n",
       "      <th>Shopping 2</th>\n",
       "      <th>Shopping 3</th>\n",
       "      <th>Shopping 4</th>\n",
       "      <th>Shopping 5</th>\n",
       "      <th>Shopping 6</th>\n",
       "      <th>Shopping 7</th>\n",
       "      <th>Flag</th>\n",
       "    </tr>\n",
       "  </thead>\n",
       "  <tbody>\n",
       "    <tr>\n",
       "      <th>0</th>\n",
       "      <td>5415.025217</td>\n",
       "      <td>26161.501860</td>\n",
       "      <td>60.068612</td>\n",
       "      <td>0.000000</td>\n",
       "      <td>0.000000</td>\n",
       "      <td>26024.882680</td>\n",
       "      <td>8658.910742</td>\n",
       "      <td>2643.423379</td>\n",
       "      <td>15.779750</td>\n",
       "      <td>30.893134</td>\n",
       "      <td>...</td>\n",
       "      <td>370.118071</td>\n",
       "      <td>1144.676197</td>\n",
       "      <td>13218.158824</td>\n",
       "      <td>16925.346513</td>\n",
       "      <td>38.298831</td>\n",
       "      <td>0.000000</td>\n",
       "      <td>0.0</td>\n",
       "      <td>0.000000</td>\n",
       "      <td>0.0</td>\n",
       "      <td>0.0</td>\n",
       "    </tr>\n",
       "    <tr>\n",
       "      <th>1</th>\n",
       "      <td>3235.034897</td>\n",
       "      <td>16059.754470</td>\n",
       "      <td>190.796503</td>\n",
       "      <td>205.644000</td>\n",
       "      <td>0.000000</td>\n",
       "      <td>29625.330598</td>\n",
       "      <td>9319.634111</td>\n",
       "      <td>2029.774828</td>\n",
       "      <td>15.642654</td>\n",
       "      <td>36.655739</td>\n",
       "      <td>...</td>\n",
       "      <td>1431.179418</td>\n",
       "      <td>1744.005071</td>\n",
       "      <td>10334.879138</td>\n",
       "      <td>23627.551670</td>\n",
       "      <td>68.605751</td>\n",
       "      <td>0.000000</td>\n",
       "      <td>0.0</td>\n",
       "      <td>0.000000</td>\n",
       "      <td>0.0</td>\n",
       "      <td>0.0</td>\n",
       "    </tr>\n",
       "    <tr>\n",
       "      <th>2</th>\n",
       "      <td>12875.203937</td>\n",
       "      <td>27134.348786</td>\n",
       "      <td>0.000000</td>\n",
       "      <td>12498.011950</td>\n",
       "      <td>33.266344</td>\n",
       "      <td>7310.007937</td>\n",
       "      <td>1317.328045</td>\n",
       "      <td>9482.094034</td>\n",
       "      <td>0.000000</td>\n",
       "      <td>34.228462</td>\n",
       "      <td>...</td>\n",
       "      <td>0.000000</td>\n",
       "      <td>609.576800</td>\n",
       "      <td>959.027649</td>\n",
       "      <td>3488.820722</td>\n",
       "      <td>213.739389</td>\n",
       "      <td>609.254624</td>\n",
       "      <td>0.0</td>\n",
       "      <td>411.308564</td>\n",
       "      <td>0.0</td>\n",
       "      <td>0.0</td>\n",
       "    </tr>\n",
       "    <tr>\n",
       "      <th>3</th>\n",
       "      <td>4981.151794</td>\n",
       "      <td>5983.815402</td>\n",
       "      <td>45.036036</td>\n",
       "      <td>1372.983167</td>\n",
       "      <td>0.000000</td>\n",
       "      <td>9766.817818</td>\n",
       "      <td>3072.256202</td>\n",
       "      <td>787.657649</td>\n",
       "      <td>19.597873</td>\n",
       "      <td>32.956826</td>\n",
       "      <td>...</td>\n",
       "      <td>0.000000</td>\n",
       "      <td>701.623054</td>\n",
       "      <td>2380.582928</td>\n",
       "      <td>15940.660707</td>\n",
       "      <td>100.831949</td>\n",
       "      <td>951.740996</td>\n",
       "      <td>0.0</td>\n",
       "      <td>0.000000</td>\n",
       "      <td>0.0</td>\n",
       "      <td>0.0</td>\n",
       "    </tr>\n",
       "    <tr>\n",
       "      <th>4</th>\n",
       "      <td>8966.018721</td>\n",
       "      <td>18917.787928</td>\n",
       "      <td>0.000000</td>\n",
       "      <td>0.000000</td>\n",
       "      <td>0.000000</td>\n",
       "      <td>30891.275336</td>\n",
       "      <td>20321.865653</td>\n",
       "      <td>2742.091370</td>\n",
       "      <td>15.560396</td>\n",
       "      <td>0.000000</td>\n",
       "      <td>...</td>\n",
       "      <td>5550.468656</td>\n",
       "      <td>1571.490319</td>\n",
       "      <td>4810.597861</td>\n",
       "      <td>27927.999806</td>\n",
       "      <td>41.495858</td>\n",
       "      <td>0.000000</td>\n",
       "      <td>0.0</td>\n",
       "      <td>0.000000</td>\n",
       "      <td>0.0</td>\n",
       "      <td>0.0</td>\n",
       "    </tr>\n",
       "  </tbody>\n",
       "</table>\n",
       "<p>5 rows × 25 columns</p>\n",
       "</div>"
      ],
      "text/plain": [
       "       Branding         DPA 1       DPA 3         DRA 1      DRA 3  \\\n",
       "0   5415.025217  26161.501860   60.068612      0.000000   0.000000   \n",
       "1   3235.034897  16059.754470  190.796503    205.644000   0.000000   \n",
       "2  12875.203937  27134.348786    0.000000  12498.011950  33.266344   \n",
       "3   4981.151794   5983.815402   45.036036   1372.983167   0.000000   \n",
       "4   8966.018721  18917.787928    0.000000      0.000000   0.000000   \n",
       "\n",
       "      Display 1     Display 2       Rmkt 1     Rmkt 3     Rmkt 6  ...  \\\n",
       "0  26024.882680   8658.910742  2643.423379  15.779750  30.893134  ...   \n",
       "1  29625.330598   9319.634111  2029.774828  15.642654  36.655739  ...   \n",
       "2   7310.007937   1317.328045  9482.094034   0.000000  34.228462  ...   \n",
       "3   9766.817818   3072.256202   787.657649  19.597873  32.956826  ...   \n",
       "4  30891.275336  20321.865653  2742.091370  15.560396   0.000000  ...   \n",
       "\n",
       "      Search 5     Search 6    Shopping 1    Shopping 2  Shopping 3  \\\n",
       "0   370.118071  1144.676197  13218.158824  16925.346513   38.298831   \n",
       "1  1431.179418  1744.005071  10334.879138  23627.551670   68.605751   \n",
       "2     0.000000   609.576800    959.027649   3488.820722  213.739389   \n",
       "3     0.000000   701.623054   2380.582928  15940.660707  100.831949   \n",
       "4  5550.468656  1571.490319   4810.597861  27927.999806   41.495858   \n",
       "\n",
       "   Shopping 4  Shopping 5  Shopping 6  Shopping 7  Flag  \n",
       "0    0.000000         0.0    0.000000         0.0   0.0  \n",
       "1    0.000000         0.0    0.000000         0.0   0.0  \n",
       "2  609.254624         0.0  411.308564         0.0   0.0  \n",
       "3  951.740996         0.0    0.000000         0.0   0.0  \n",
       "4    0.000000         0.0    0.000000         0.0   0.0  \n",
       "\n",
       "[5 rows x 25 columns]"
      ]
     },
     "execution_count": 18,
     "metadata": {},
     "output_type": "execute_result"
    }
   ],
   "source": [
    "x_test.head()"
   ]
  },
  {
   "cell_type": "markdown",
   "metadata": {},
   "source": [
    "## Variável Numérica com uma Variável Categórica"
   ]
  },
  {
   "cell_type": "markdown",
   "metadata": {},
   "source": [
    "Programa dá erro pois a regressão linear não consegue compreender valores categóricos, que precisam ser transformados"
   ]
  },
  {
   "cell_type": "code",
   "execution_count": 4,
   "metadata": {},
   "outputs": [
    {
     "name": "stderr",
     "output_type": "stream",
     "text": [
      "c:\\Users\\bruna\\anaconda3\\lib\\site-packages\\sklearn\\utils\\validation.py:964: FutureWarning: Arrays of bytes/strings is being converted to decimal numbers if dtype='numeric'. This behavior is deprecated in 0.24 and will be removed in 1.1 (renaming of 0.26). Please convert your data to numeric values explicitly instead.\n",
      "  X = check_array(\n"
     ]
    },
    {
     "ename": "ValueError",
     "evalue": "Unable to convert array of bytes/strings into decimal numbers with dtype='numeric'",
     "output_type": "error",
     "traceback": [
      "\u001b[1;31m---------------------------------------------------------------------------\u001b[0m",
      "\u001b[1;31mValueError\u001b[0m                                Traceback (most recent call last)",
      "\u001b[1;32mc:\\Users\\bruna\\anaconda3\\lib\\site-packages\\sklearn\\utils\\validation.py\u001b[0m in \u001b[0;36mcheck_array\u001b[1;34m(array, accept_sparse, accept_large_sparse, dtype, order, copy, force_all_finite, ensure_2d, allow_nd, ensure_min_samples, ensure_min_features, estimator)\u001b[0m\n\u001b[0;32m    786\u001b[0m             \u001b[1;32mtry\u001b[0m\u001b[1;33m:\u001b[0m\u001b[1;33m\u001b[0m\u001b[1;33m\u001b[0m\u001b[0m\n\u001b[1;32m--> 787\u001b[1;33m                 \u001b[0marray\u001b[0m \u001b[1;33m=\u001b[0m \u001b[0marray\u001b[0m\u001b[1;33m.\u001b[0m\u001b[0mastype\u001b[0m\u001b[1;33m(\u001b[0m\u001b[0mnp\u001b[0m\u001b[1;33m.\u001b[0m\u001b[0mfloat64\u001b[0m\u001b[1;33m)\u001b[0m\u001b[1;33m\u001b[0m\u001b[1;33m\u001b[0m\u001b[0m\n\u001b[0m\u001b[0;32m    788\u001b[0m             \u001b[1;32mexcept\u001b[0m \u001b[0mValueError\u001b[0m \u001b[1;32mas\u001b[0m \u001b[0me\u001b[0m\u001b[1;33m:\u001b[0m\u001b[1;33m\u001b[0m\u001b[1;33m\u001b[0m\u001b[0m\n",
      "\u001b[1;31mValueError\u001b[0m: could not convert string to float: 'Bream'",
      "\nThe above exception was the direct cause of the following exception:\n",
      "\u001b[1;31mValueError\u001b[0m                                Traceback (most recent call last)",
      "\u001b[1;32m~\\AppData\\Local\\Temp/ipykernel_9672/3310736535.py\u001b[0m in \u001b[0;36m<module>\u001b[1;34m\u001b[0m\n\u001b[0;32m      5\u001b[0m \u001b[0my\u001b[0m \u001b[1;33m=\u001b[0m \u001b[0mnp\u001b[0m\u001b[1;33m.\u001b[0m\u001b[0marray\u001b[0m\u001b[1;33m(\u001b[0m\u001b[1;33m[\u001b[0m\u001b[1;36m100\u001b[0m\u001b[1;33m,\u001b[0m \u001b[1;36m200\u001b[0m\u001b[1;33m,\u001b[0m \u001b[1;36m300\u001b[0m\u001b[1;33m,\u001b[0m \u001b[1;36m800\u001b[0m\u001b[1;33m,\u001b[0m \u001b[1;36m200\u001b[0m\u001b[1;33m,\u001b[0m \u001b[1;36m100\u001b[0m\u001b[1;33m,\u001b[0m \u001b[1;36m800\u001b[0m\u001b[1;33m,\u001b[0m \u001b[1;36m800\u001b[0m\u001b[1;33m,\u001b[0m \u001b[1;36m100\u001b[0m\u001b[1;33m,\u001b[0m \u001b[1;36m800\u001b[0m\u001b[1;33m,\u001b[0m \u001b[1;36m100\u001b[0m\u001b[1;33m,\u001b[0m \u001b[1;36m200\u001b[0m\u001b[1;33m]\u001b[0m\u001b[1;33m)\u001b[0m\u001b[1;33m\u001b[0m\u001b[1;33m\u001b[0m\u001b[0m\n\u001b[0;32m      6\u001b[0m \u001b[1;33m\u001b[0m\u001b[0m\n\u001b[1;32m----> 7\u001b[1;33m \u001b[0mreg\u001b[0m \u001b[1;33m=\u001b[0m \u001b[0mLinearRegression\u001b[0m\u001b[1;33m(\u001b[0m\u001b[1;33m)\u001b[0m\u001b[1;33m.\u001b[0m\u001b[0mfit\u001b[0m\u001b[1;33m(\u001b[0m\u001b[0mx\u001b[0m\u001b[1;33m,\u001b[0m \u001b[0my\u001b[0m\u001b[1;33m)\u001b[0m\u001b[1;33m\u001b[0m\u001b[1;33m\u001b[0m\u001b[0m\n\u001b[0m\u001b[0;32m      8\u001b[0m \u001b[1;33m\u001b[0m\u001b[0m\n\u001b[0;32m      9\u001b[0m \u001b[1;33m\u001b[0m\u001b[0m\n",
      "\u001b[1;32mc:\\Users\\bruna\\anaconda3\\lib\\site-packages\\sklearn\\linear_model\\_base.py\u001b[0m in \u001b[0;36mfit\u001b[1;34m(self, X, y, sample_weight)\u001b[0m\n\u001b[0;32m    660\u001b[0m         \u001b[0maccept_sparse\u001b[0m \u001b[1;33m=\u001b[0m \u001b[1;32mFalse\u001b[0m \u001b[1;32mif\u001b[0m \u001b[0mself\u001b[0m\u001b[1;33m.\u001b[0m\u001b[0mpositive\u001b[0m \u001b[1;32melse\u001b[0m \u001b[1;33m[\u001b[0m\u001b[1;34m\"csr\"\u001b[0m\u001b[1;33m,\u001b[0m \u001b[1;34m\"csc\"\u001b[0m\u001b[1;33m,\u001b[0m \u001b[1;34m\"coo\"\u001b[0m\u001b[1;33m]\u001b[0m\u001b[1;33m\u001b[0m\u001b[1;33m\u001b[0m\u001b[0m\n\u001b[0;32m    661\u001b[0m \u001b[1;33m\u001b[0m\u001b[0m\n\u001b[1;32m--> 662\u001b[1;33m         X, y = self._validate_data(\n\u001b[0m\u001b[0;32m    663\u001b[0m             \u001b[0mX\u001b[0m\u001b[1;33m,\u001b[0m \u001b[0my\u001b[0m\u001b[1;33m,\u001b[0m \u001b[0maccept_sparse\u001b[0m\u001b[1;33m=\u001b[0m\u001b[0maccept_sparse\u001b[0m\u001b[1;33m,\u001b[0m \u001b[0my_numeric\u001b[0m\u001b[1;33m=\u001b[0m\u001b[1;32mTrue\u001b[0m\u001b[1;33m,\u001b[0m \u001b[0mmulti_output\u001b[0m\u001b[1;33m=\u001b[0m\u001b[1;32mTrue\u001b[0m\u001b[1;33m\u001b[0m\u001b[1;33m\u001b[0m\u001b[0m\n\u001b[0;32m    664\u001b[0m         )\n",
      "\u001b[1;32mc:\\Users\\bruna\\anaconda3\\lib\\site-packages\\sklearn\\base.py\u001b[0m in \u001b[0;36m_validate_data\u001b[1;34m(self, X, y, reset, validate_separately, **check_params)\u001b[0m\n\u001b[0;32m    579\u001b[0m                 \u001b[0my\u001b[0m \u001b[1;33m=\u001b[0m \u001b[0mcheck_array\u001b[0m\u001b[1;33m(\u001b[0m\u001b[0my\u001b[0m\u001b[1;33m,\u001b[0m \u001b[1;33m**\u001b[0m\u001b[0mcheck_y_params\u001b[0m\u001b[1;33m)\u001b[0m\u001b[1;33m\u001b[0m\u001b[1;33m\u001b[0m\u001b[0m\n\u001b[0;32m    580\u001b[0m             \u001b[1;32melse\u001b[0m\u001b[1;33m:\u001b[0m\u001b[1;33m\u001b[0m\u001b[1;33m\u001b[0m\u001b[0m\n\u001b[1;32m--> 581\u001b[1;33m                 \u001b[0mX\u001b[0m\u001b[1;33m,\u001b[0m \u001b[0my\u001b[0m \u001b[1;33m=\u001b[0m \u001b[0mcheck_X_y\u001b[0m\u001b[1;33m(\u001b[0m\u001b[0mX\u001b[0m\u001b[1;33m,\u001b[0m \u001b[0my\u001b[0m\u001b[1;33m,\u001b[0m \u001b[1;33m**\u001b[0m\u001b[0mcheck_params\u001b[0m\u001b[1;33m)\u001b[0m\u001b[1;33m\u001b[0m\u001b[1;33m\u001b[0m\u001b[0m\n\u001b[0m\u001b[0;32m    582\u001b[0m             \u001b[0mout\u001b[0m \u001b[1;33m=\u001b[0m \u001b[0mX\u001b[0m\u001b[1;33m,\u001b[0m \u001b[0my\u001b[0m\u001b[1;33m\u001b[0m\u001b[1;33m\u001b[0m\u001b[0m\n\u001b[0;32m    583\u001b[0m \u001b[1;33m\u001b[0m\u001b[0m\n",
      "\u001b[1;32mc:\\Users\\bruna\\anaconda3\\lib\\site-packages\\sklearn\\utils\\validation.py\u001b[0m in \u001b[0;36mcheck_X_y\u001b[1;34m(X, y, accept_sparse, accept_large_sparse, dtype, order, copy, force_all_finite, ensure_2d, allow_nd, multi_output, ensure_min_samples, ensure_min_features, y_numeric, estimator)\u001b[0m\n\u001b[0;32m    962\u001b[0m         \u001b[1;32mraise\u001b[0m \u001b[0mValueError\u001b[0m\u001b[1;33m(\u001b[0m\u001b[1;34m\"y cannot be None\"\u001b[0m\u001b[1;33m)\u001b[0m\u001b[1;33m\u001b[0m\u001b[1;33m\u001b[0m\u001b[0m\n\u001b[0;32m    963\u001b[0m \u001b[1;33m\u001b[0m\u001b[0m\n\u001b[1;32m--> 964\u001b[1;33m     X = check_array(\n\u001b[0m\u001b[0;32m    965\u001b[0m         \u001b[0mX\u001b[0m\u001b[1;33m,\u001b[0m\u001b[1;33m\u001b[0m\u001b[1;33m\u001b[0m\u001b[0m\n\u001b[0;32m    966\u001b[0m         \u001b[0maccept_sparse\u001b[0m\u001b[1;33m=\u001b[0m\u001b[0maccept_sparse\u001b[0m\u001b[1;33m,\u001b[0m\u001b[1;33m\u001b[0m\u001b[1;33m\u001b[0m\u001b[0m\n",
      "\u001b[1;32mc:\\Users\\bruna\\anaconda3\\lib\\site-packages\\sklearn\\utils\\validation.py\u001b[0m in \u001b[0;36mcheck_array\u001b[1;34m(array, accept_sparse, accept_large_sparse, dtype, order, copy, force_all_finite, ensure_2d, allow_nd, ensure_min_samples, ensure_min_features, estimator)\u001b[0m\n\u001b[0;32m    787\u001b[0m                 \u001b[0marray\u001b[0m \u001b[1;33m=\u001b[0m \u001b[0marray\u001b[0m\u001b[1;33m.\u001b[0m\u001b[0mastype\u001b[0m\u001b[1;33m(\u001b[0m\u001b[0mnp\u001b[0m\u001b[1;33m.\u001b[0m\u001b[0mfloat64\u001b[0m\u001b[1;33m)\u001b[0m\u001b[1;33m\u001b[0m\u001b[1;33m\u001b[0m\u001b[0m\n\u001b[0;32m    788\u001b[0m             \u001b[1;32mexcept\u001b[0m \u001b[0mValueError\u001b[0m \u001b[1;32mas\u001b[0m \u001b[0me\u001b[0m\u001b[1;33m:\u001b[0m\u001b[1;33m\u001b[0m\u001b[1;33m\u001b[0m\u001b[0m\n\u001b[1;32m--> 789\u001b[1;33m                 raise ValueError(\n\u001b[0m\u001b[0;32m    790\u001b[0m                     \u001b[1;34m\"Unable to convert array of bytes/strings \"\u001b[0m\u001b[1;33m\u001b[0m\u001b[1;33m\u001b[0m\u001b[0m\n\u001b[0;32m    791\u001b[0m                     \u001b[1;34m\"into decimal numbers with dtype='numeric'\"\u001b[0m\u001b[1;33m\u001b[0m\u001b[1;33m\u001b[0m\u001b[0m\n",
      "\u001b[1;31mValueError\u001b[0m: Unable to convert array of bytes/strings into decimal numbers with dtype='numeric'"
     ]
    }
   ],
   "source": [
    "import numpy as np\n",
    "from sklearn.linear_model import LinearRegression\n",
    "\n",
    "x = np.array([\"Bream\", \"Perch\", \"Pike\", \"Roach\", \"Bream\", \"Perch\", \"Pike\", \"Roach\", \"Bream\", \"Perch\", \"Pike\", \"Roach\"]).reshape(-1, 1)\n",
    "y = np.array([100, 200, 300, 800, 200, 100, 800, 800, 100, 800, 100, 200])\n",
    "\n",
    "reg = LinearRegression().fit(x, y)\n",
    "\n",
    "\n",
    "reg.score(x, y)"
   ]
  },
  {
   "cell_type": "markdown",
   "metadata": {},
   "source": [
    "Transformar o valor categórico para numérico para que o modelo possa ser elaborado"
   ]
  },
  {
   "cell_type": "code",
   "execution_count": 5,
   "metadata": {},
   "outputs": [
    {
     "data": {
      "text/plain": [
       "OneHotEncoder(handle_unknown='ignore')"
      ]
     },
     "execution_count": 5,
     "metadata": {},
     "output_type": "execute_result"
    }
   ],
   "source": [
    "from sklearn.preprocessing import OneHotEncoder\n",
    "\n",
    "enc = OneHotEncoder(handle_unknown='ignore')\n",
    "enc.fit(x)"
   ]
  },
  {
   "cell_type": "code",
   "execution_count": 22,
   "metadata": {},
   "outputs": [
    {
     "data": {
      "text/html": [
       "<div>\n",
       "<style scoped>\n",
       "    .dataframe tbody tr th:only-of-type {\n",
       "        vertical-align: middle;\n",
       "    }\n",
       "\n",
       "    .dataframe tbody tr th {\n",
       "        vertical-align: top;\n",
       "    }\n",
       "\n",
       "    .dataframe thead th {\n",
       "        text-align: right;\n",
       "    }\n",
       "</style>\n",
       "<table border=\"1\" class=\"dataframe\">\n",
       "  <thead>\n",
       "    <tr style=\"text-align: right;\">\n",
       "      <th></th>\n",
       "      <th>0</th>\n",
       "      <th>0</th>\n",
       "      <th>1</th>\n",
       "      <th>2</th>\n",
       "      <th>3</th>\n",
       "    </tr>\n",
       "  </thead>\n",
       "  <tbody>\n",
       "    <tr>\n",
       "      <th>0</th>\n",
       "      <td>Bream</td>\n",
       "      <td>1.0</td>\n",
       "      <td>0.0</td>\n",
       "      <td>0.0</td>\n",
       "      <td>0.0</td>\n",
       "    </tr>\n",
       "    <tr>\n",
       "      <th>1</th>\n",
       "      <td>Perch</td>\n",
       "      <td>0.0</td>\n",
       "      <td>1.0</td>\n",
       "      <td>0.0</td>\n",
       "      <td>0.0</td>\n",
       "    </tr>\n",
       "    <tr>\n",
       "      <th>2</th>\n",
       "      <td>Pike</td>\n",
       "      <td>0.0</td>\n",
       "      <td>0.0</td>\n",
       "      <td>1.0</td>\n",
       "      <td>0.0</td>\n",
       "    </tr>\n",
       "    <tr>\n",
       "      <th>3</th>\n",
       "      <td>Roach</td>\n",
       "      <td>0.0</td>\n",
       "      <td>0.0</td>\n",
       "      <td>0.0</td>\n",
       "      <td>1.0</td>\n",
       "    </tr>\n",
       "    <tr>\n",
       "      <th>4</th>\n",
       "      <td>Bream</td>\n",
       "      <td>1.0</td>\n",
       "      <td>0.0</td>\n",
       "      <td>0.0</td>\n",
       "      <td>0.0</td>\n",
       "    </tr>\n",
       "    <tr>\n",
       "      <th>5</th>\n",
       "      <td>Perch</td>\n",
       "      <td>0.0</td>\n",
       "      <td>1.0</td>\n",
       "      <td>0.0</td>\n",
       "      <td>0.0</td>\n",
       "    </tr>\n",
       "    <tr>\n",
       "      <th>6</th>\n",
       "      <td>Pike</td>\n",
       "      <td>0.0</td>\n",
       "      <td>0.0</td>\n",
       "      <td>1.0</td>\n",
       "      <td>0.0</td>\n",
       "    </tr>\n",
       "    <tr>\n",
       "      <th>7</th>\n",
       "      <td>Roach</td>\n",
       "      <td>0.0</td>\n",
       "      <td>0.0</td>\n",
       "      <td>0.0</td>\n",
       "      <td>1.0</td>\n",
       "    </tr>\n",
       "    <tr>\n",
       "      <th>8</th>\n",
       "      <td>Bream</td>\n",
       "      <td>1.0</td>\n",
       "      <td>0.0</td>\n",
       "      <td>0.0</td>\n",
       "      <td>0.0</td>\n",
       "    </tr>\n",
       "    <tr>\n",
       "      <th>9</th>\n",
       "      <td>Perch</td>\n",
       "      <td>0.0</td>\n",
       "      <td>1.0</td>\n",
       "      <td>0.0</td>\n",
       "      <td>0.0</td>\n",
       "    </tr>\n",
       "    <tr>\n",
       "      <th>10</th>\n",
       "      <td>Pike</td>\n",
       "      <td>0.0</td>\n",
       "      <td>0.0</td>\n",
       "      <td>1.0</td>\n",
       "      <td>0.0</td>\n",
       "    </tr>\n",
       "    <tr>\n",
       "      <th>11</th>\n",
       "      <td>Roach</td>\n",
       "      <td>0.0</td>\n",
       "      <td>0.0</td>\n",
       "      <td>0.0</td>\n",
       "      <td>1.0</td>\n",
       "    </tr>\n",
       "  </tbody>\n",
       "</table>\n",
       "</div>"
      ],
      "text/plain": [
       "        0    0    1    2    3\n",
       "0   Bream  1.0  0.0  0.0  0.0\n",
       "1   Perch  0.0  1.0  0.0  0.0\n",
       "2    Pike  0.0  0.0  1.0  0.0\n",
       "3   Roach  0.0  0.0  0.0  1.0\n",
       "4   Bream  1.0  0.0  0.0  0.0\n",
       "5   Perch  0.0  1.0  0.0  0.0\n",
       "6    Pike  0.0  0.0  1.0  0.0\n",
       "7   Roach  0.0  0.0  0.0  1.0\n",
       "8   Bream  1.0  0.0  0.0  0.0\n",
       "9   Perch  0.0  1.0  0.0  0.0\n",
       "10   Pike  0.0  0.0  1.0  0.0\n",
       "11  Roach  0.0  0.0  0.0  1.0"
      ]
     },
     "execution_count": 22,
     "metadata": {},
     "output_type": "execute_result"
    }
   ],
   "source": [
    "# pd.DataFrame(zip(x, enc.transform(x).toarray()))\n",
    "pd.concat([pd.DataFrame(x), pd.DataFrame(enc.transform(x).toarray())], axis=1)"
   ]
  },
  {
   "cell_type": "code",
   "execution_count": 23,
   "metadata": {},
   "outputs": [
    {
     "data": {
      "text/plain": [
       "0.2932442464736452"
      ]
     },
     "execution_count": 23,
     "metadata": {},
     "output_type": "execute_result"
    }
   ],
   "source": [
    "x_transformed = enc.transform(x)\n",
    "reg = LinearRegression().fit(x_transformed, y)\n",
    "\n",
    "# Retornar o coeficiente de determinação R² da previsão:\n",
    "reg.score(x_transformed, y)"
   ]
  },
  {
   "cell_type": "markdown",
   "metadata": {},
   "source": [
    "## Regressão Linear com SciKit Learn\n",
    "Documentação https://scikit-learn.org/stable/index.html"
   ]
  },
  {
   "cell_type": "markdown",
   "metadata": {},
   "source": [
    "### 2 Dimensões\n",
    "Resolver a equação com Scikit-Learn: **ax + b = y**"
   ]
  },
  {
   "cell_type": "code",
   "execution_count": 6,
   "metadata": {},
   "outputs": [],
   "source": [
    "import numpy as np\n",
    "from sklearn.linear_model import LinearRegression"
   ]
  },
  {
   "cell_type": "code",
   "execution_count": 9,
   "metadata": {},
   "outputs": [],
   "source": [
    "x = np.array([13, 24, 13, 8, 18, 24]).reshape(-1, 1)\n",
    "\n",
    "#y = 2*x + 3\n",
    "y = np.dot(x, np.array([2])) + 3"
   ]
  },
  {
   "cell_type": "code",
   "execution_count": 10,
   "metadata": {},
   "outputs": [
    {
     "data": {
      "text/plain": [
       "1.0"
      ]
     },
     "execution_count": 10,
     "metadata": {},
     "output_type": "execute_result"
    }
   ],
   "source": [
    "reg = LinearRegression().fit(x, y)\n",
    "reg.score(x, y)"
   ]
  },
  {
   "cell_type": "markdown",
   "metadata": {},
   "source": [
    "Coeficiente de inclinação"
   ]
  },
  {
   "cell_type": "code",
   "execution_count": 11,
   "metadata": {},
   "outputs": [
    {
     "data": {
      "text/plain": [
       "array([2.])"
      ]
     },
     "execution_count": 11,
     "metadata": {},
     "output_type": "execute_result"
    }
   ],
   "source": [
    "reg.coef_"
   ]
  },
  {
   "cell_type": "markdown",
   "metadata": {},
   "source": [
    "### Modelo para predições"
   ]
  },
  {
   "cell_type": "code",
   "execution_count": 12,
   "metadata": {},
   "outputs": [
    {
     "data": {
      "text/plain": [
       "array([ 5.,  7.,  9., 11., 13.])"
      ]
     },
     "execution_count": 12,
     "metadata": {},
     "output_type": "execute_result"
    }
   ],
   "source": [
    "x_test = np.array([1,2,3,4,5]).reshape(-1,1)\n",
    "\n",
    "y_pred = reg.predict(x_test)\n",
    "\n",
    "y_pred"
   ]
  },
  {
   "cell_type": "markdown",
   "metadata": {},
   "source": [
    "### Visualização dos resultados"
   ]
  },
  {
   "cell_type": "code",
   "execution_count": 13,
   "metadata": {},
   "outputs": [
    {
     "data": {
      "image/png": "[encoded data removed]",
      "text/plain": [
       "<Figure size 432x288 with 1 Axes>"
      ]
     },
     "metadata": {
      "needs_background": "light"
     },
     "output_type": "display_data"
    }
   ],
   "source": [
    "import matplotlib.pyplot as plt\n",
    "\n",
    "y_true = [5, 7, 9, 11, 13]\n",
    "\n",
    "# Plot outputs\n",
    "plt.scatter(x_test, y_pred, color='black')\n",
    "plt.plot(x_test, y_true, color='blue', linewidth=3)\n",
    "\n",
    "plt.show()"
   ]
  },
  {
   "cell_type": "markdown",
   "metadata": {},
   "source": [
    "### n Dimensões"
   ]
  },
  {
   "cell_type": "code",
   "execution_count": 30,
   "metadata": {},
   "outputs": [],
   "source": [
    "x = np.array([[1, 1, 3], [1, 2, 1], [2, 2, 4], [2, 3, 5]])\n",
    "\n",
    "# y = 1*x1 + 2*x2 + 5*x3 + 3\n",
    "y = np.dot(x, np.array([1, 2, 5])) + 3\n",
    "\n",
    "reg = LinearRegression().fit(x, y) "
   ]
  },
  {
   "cell_type": "code",
   "execution_count": 31,
   "metadata": {},
   "outputs": [
    {
     "data": {
      "text/plain": [
       "array([1., 2., 5.])"
      ]
     },
     "execution_count": 31,
     "metadata": {},
     "output_type": "execute_result"
    }
   ],
   "source": [
    "reg.coef_ "
   ]
  },
  {
   "cell_type": "code",
   "execution_count": 32,
   "metadata": {},
   "outputs": [
    {
     "data": {
      "text/plain": [
       "3.0000000000000107"
      ]
     },
     "execution_count": 32,
     "metadata": {},
     "output_type": "execute_result"
    }
   ],
   "source": [
    "reg.intercept_"
   ]
  },
  {
   "cell_type": "markdown",
   "metadata": {},
   "source": [
    "### Modelo para predições"
   ]
  },
  {
   "cell_type": "code",
   "execution_count": 33,
   "metadata": {},
   "outputs": [
    {
     "data": {
      "text/plain": [
       "array([23., 79., 29.])"
      ]
     },
     "execution_count": 33,
     "metadata": {},
     "output_type": "execute_result"
    }
   ],
   "source": [
    "x_test = np.array([[1, 2, 3], [8, 9, 10], [2, 2, 4]])\n",
    "y_pred = reg.predict(x_test)\n",
    "y_pred"
   ]
  },
  {
   "cell_type": "markdown",
   "metadata": {},
   "source": [
    "### Comparando com os valores reais"
   ]
  },
  {
   "cell_type": "code",
   "execution_count": 34,
   "metadata": {},
   "outputs": [
    {
     "data": {
      "text/plain": [
       "array([23, 79, 29])"
      ]
     },
     "execution_count": 34,
     "metadata": {},
     "output_type": "execute_result"
    }
   ],
   "source": [
    "y_true = np.dot(x_test, np.array([1, 2, 5])) + 3\n",
    "y_true"
   ]
  },
  {
   "cell_type": "markdown",
   "metadata": {},
   "source": [
    "### Salvar o modelo"
   ]
  },
  {
   "cell_type": "code",
   "execution_count": 35,
   "metadata": {},
   "outputs": [
    {
     "data": {
      "text/plain": [
       "['reg.joblib']"
      ]
     },
     "execution_count": 35,
     "metadata": {},
     "output_type": "execute_result"
    }
   ],
   "source": [
    "import joblib\n",
    "filename = 'reg.joblib'\n",
    "joblib.dump(reg, filename)"
   ]
  },
  {
   "cell_type": "code",
   "execution_count": 36,
   "metadata": {},
   "outputs": [
    {
     "data": {
      "text/plain": [
       "LinearRegression()"
      ]
     },
     "execution_count": 36,
     "metadata": {},
     "output_type": "execute_result"
    }
   ],
   "source": [
    "loaded_reg = joblib.load(filename)\n",
    "loaded_reg"
   ]
  },
  {
   "cell_type": "markdown",
   "metadata": {},
   "source": [
    "### Carregar e reutilizar o modelo"
   ]
  },
  {
   "cell_type": "code",
   "execution_count": 37,
   "metadata": {},
   "outputs": [
    {
     "data": {
      "text/plain": [
       "array([23., 79., 29.])"
      ]
     },
     "execution_count": 37,
     "metadata": {},
     "output_type": "execute_result"
    }
   ],
   "source": [
    "y_pred = loaded_reg.predict(x_test)\n",
    "y_pred"
   ]
  },
  {
   "cell_type": "markdown",
   "metadata": {},
   "source": [
    "## Limites do Modelo Linear\n",
    "\n",
    "Construir variáveis com relação não linear"
   ]
  },
  {
   "cell_type": "code",
   "execution_count": 14,
   "metadata": {},
   "outputs": [
    {
     "data": {
      "text/plain": [
       "array([[0, 1],\n",
       "       [2, 3],\n",
       "       [4, 5]])"
      ]
     },
     "execution_count": 14,
     "metadata": {},
     "output_type": "execute_result"
    }
   ],
   "source": [
    "from sklearn.preprocessing import PolynomialFeatures\n",
    "\n",
    "x = np.arange(6).reshape(3, 2)\n",
    "x"
   ]
  },
  {
   "cell_type": "code",
   "execution_count": 45,
   "metadata": {},
   "outputs": [],
   "source": [
    "y = np.array([100, 200, 300])"
   ]
  },
  {
   "cell_type": "markdown",
   "metadata": {},
   "source": [
    "Aplicar a transformação de variáveis:\n",
    "* Gerar uma nova matriz da feature consistindo de todas as combinações polinomiais da feature"
   ]
  },
  {
   "cell_type": "code",
   "execution_count": 46,
   "metadata": {},
   "outputs": [
    {
     "data": {
      "text/plain": [
       "array([[ 1.,  0.,  1.,  0.,  0.,  1.],\n",
       "       [ 1.,  2.,  3.,  4.,  6.,  9.],\n",
       "       [ 1.,  4.,  5., 16., 20., 25.]])"
      ]
     },
     "execution_count": 46,
     "metadata": {},
     "output_type": "execute_result"
    }
   ],
   "source": [
    "poly = PolynomialFeatures(2)\n",
    "poly.fit_transform(x)"
   ]
  },
  {
   "cell_type": "code",
   "execution_count": 47,
   "metadata": {},
   "outputs": [],
   "source": [
    "x_transformed = poly.fit_transform(x)"
   ]
  },
  {
   "cell_type": "code",
   "execution_count": 48,
   "metadata": {},
   "outputs": [],
   "source": [
    "reg = LinearRegression().fit(x_transformed, y)"
   ]
  },
  {
   "cell_type": "code",
   "execution_count": 49,
   "metadata": {},
   "outputs": [
    {
     "name": "stdout",
     "output_type": "stream",
     "text": [
      "[-5.32907052e-15  1.25000000e+01  1.25000000e+01 -1.25000000e+01\n",
      " -1.56329705e-14  1.25000000e+01]\n",
      "74.99999999999997\n"
     ]
    }
   ],
   "source": [
    "print(reg.coef_)\n",
    "print(reg.intercept_)"
   ]
  },
  {
   "cell_type": "markdown",
   "metadata": {},
   "source": [
    "## Regressão não linear"
   ]
  },
  {
   "cell_type": "code",
   "execution_count": 15,
   "metadata": {},
   "outputs": [],
   "source": [
    "from sklearn.ensemble import RandomForestRegressor\n",
    "from sklearn.datasets import make_regression\n",
    "\n",
    "# Inicializando as variáveis independentes e dependentes\n",
    "x, y = make_regression(n_features=4, n_informative=2,\n",
    "                       random_state=0, shuffle=False)"
   ]
  },
  {
   "cell_type": "code",
   "execution_count": 52,
   "metadata": {},
   "outputs": [
    {
     "data": {
      "text/plain": [
       "array([[ 1.76405235,  0.40015721,  0.97873798,  2.2408932 ],\n",
       "       [ 1.86755799, -0.97727788,  0.95008842, -0.15135721],\n",
       "       [-0.10321885,  0.4105985 ,  0.14404357,  1.45427351],\n",
       "       [ 0.76103773,  0.12167502,  0.44386323,  0.33367433],\n",
       "       [ 1.49407907, -0.20515826,  0.3130677 , -0.85409574]])"
      ]
     },
     "execution_count": 52,
     "metadata": {},
     "output_type": "execute_result"
    }
   ],
   "source": [
    "x[:5]"
   ]
  },
  {
   "cell_type": "code",
   "execution_count": 53,
   "metadata": {},
   "outputs": [
    {
     "data": {
      "text/plain": [
       "array([49.82290745,  4.87728597, 11.91487464, 19.75307803, 23.60700003])"
      ]
     },
     "execution_count": 53,
     "metadata": {},
     "output_type": "execute_result"
    }
   ],
   "source": [
    "y[:5]"
   ]
  },
  {
   "cell_type": "code",
   "execution_count": 54,
   "metadata": {},
   "outputs": [
    {
     "data": {
      "text/plain": [
       "RandomForestRegressor(max_depth=2, random_state=0)"
      ]
     },
     "execution_count": 54,
     "metadata": {},
     "output_type": "execute_result"
    }
   ],
   "source": [
    "reg = RandomForestRegressor(max_depth=2, random_state=0)\n",
    "reg.fit(x, y)"
   ]
  },
  {
   "cell_type": "code",
   "execution_count": 56,
   "metadata": {},
   "outputs": [
    {
     "data": {
      "text/plain": [
       "array([52.79050925, 61.7155606 ])"
      ]
     },
     "execution_count": 56,
     "metadata": {},
     "output_type": "execute_result"
    }
   ],
   "source": [
    "reg.predict([[1, 2, 3, 4], [6, 2, 3, 5]])"
   ]
  },
  {
   "cell_type": "markdown",
   "metadata": {},
   "source": [
    "## Métricas de avaliação de modelo"
   ]
  },
  {
   "cell_type": "code",
   "execution_count": 16,
   "metadata": {},
   "outputs": [],
   "source": [
    "from sklearn.metrics import mean_squared_error, r2_score, mean_absolute_error\n",
    "from sklearn.datasets import load_boston\n",
    "from sklearn.model_selection import train_test_split\n",
    "from sklearn.ensemble import RandomForestRegressor\n",
    "import numpy as np\n",
    "from sklearn.linear_model import LinearRegression"
   ]
  },
  {
   "cell_type": "code",
   "execution_count": 58,
   "metadata": {},
   "outputs": [],
   "source": [
    "y_true = [3, 0.5, 2, 7]\n",
    "y_pred = [2.5, 0.0, 2, 8]"
   ]
  },
  {
   "cell_type": "code",
   "execution_count": 60,
   "metadata": {},
   "outputs": [
    {
     "name": "stdout",
     "output_type": "stream",
     "text": [
      "RMSE Score:  0.61\n"
     ]
    }
   ],
   "source": [
    "# Modelo que penaliza mais erros grandes\n",
    "\n",
    "# Com squared=False ele irá calcular o RMSE e não o MSE\n",
    "print(f'RMSE Score: {mean_squared_error(y_true, y_pred, squared=False): .2f}')"
   ]
  },
  {
   "cell_type": "code",
   "execution_count": 61,
   "metadata": {},
   "outputs": [
    {
     "name": "stderr",
     "output_type": "stream",
     "text": [
      "c:\\Users\\bruna\\anaconda3\\lib\\site-packages\\sklearn\\utils\\deprecation.py:87: FutureWarning: Function load_boston is deprecated; `load_boston` is deprecated in 1.0 and will be removed in 1.2.\n",
      "\n",
      "    The Boston housing prices dataset has an ethical problem. You can refer to\n",
      "    the documentation of this function for further details.\n",
      "\n",
      "    The scikit-learn maintainers therefore strongly discourage the use of this\n",
      "    dataset unless the purpose of the code is to study and educate about\n",
      "    ethical issues in data science and machine learning.\n",
      "\n",
      "    In this special case, you can fetch the dataset from the original\n",
      "    source::\n",
      "\n",
      "        import pandas as pd\n",
      "        import numpy as np\n",
      "\n",
      "\n",
      "        data_url = \"http://lib.stat.cmu.edu/datasets/boston\"\n",
      "        raw_df = pd.read_csv(data_url, sep=\"\\s+\", skiprows=22, header=None)\n",
      "        data = np.hstack([raw_df.values[::2, :], raw_df.values[1::2, :2]])\n",
      "        target = raw_df.values[1::2, 2]\n",
      "\n",
      "    Alternative datasets include the California housing dataset (i.e.\n",
      "    :func:`~sklearn.datasets.fetch_california_housing`) and the Ames housing\n",
      "    dataset. You can load the datasets as follows::\n",
      "\n",
      "        from sklearn.datasets import fetch_california_housing\n",
      "        housing = fetch_california_housing()\n",
      "\n",
      "    for the California housing dataset and::\n",
      "\n",
      "        from sklearn.datasets import fetch_openml\n",
      "        housing = fetch_openml(name=\"house_prices\", as_frame=True)\n",
      "\n",
      "    for the Ames housing dataset.\n",
      "    \n",
      "  warnings.warn(msg, category=FutureWarning)\n"
     ]
    },
    {
     "data": {
      "text/plain": [
       "(506, 13)"
      ]
     },
     "execution_count": 61,
     "metadata": {},
     "output_type": "execute_result"
    }
   ],
   "source": [
    "x, y = load_boston(return_X_y=True)\n",
    "x.shape"
   ]
  },
  {
   "cell_type": "markdown",
   "metadata": {},
   "source": [
    "### Visualização inicial dos dados"
   ]
  },
  {
   "cell_type": "code",
   "execution_count": 62,
   "metadata": {},
   "outputs": [
    {
     "data": {
      "text/plain": [
       "array([[6.3200e-03, 1.8000e+01, 2.3100e+00, 0.0000e+00, 5.3800e-01,\n",
       "        6.5750e+00, 6.5200e+01, 4.0900e+00, 1.0000e+00, 2.9600e+02,\n",
       "        1.5300e+01, 3.9690e+02, 4.9800e+00],\n",
       "       [2.7310e-02, 0.0000e+00, 7.0700e+00, 0.0000e+00, 4.6900e-01,\n",
       "        6.4210e+00, 7.8900e+01, 4.9671e+00, 2.0000e+00, 2.4200e+02,\n",
       "        1.7800e+01, 3.9690e+02, 9.1400e+00],\n",
       "       [2.7290e-02, 0.0000e+00, 7.0700e+00, 0.0000e+00, 4.6900e-01,\n",
       "        7.1850e+00, 6.1100e+01, 4.9671e+00, 2.0000e+00, 2.4200e+02,\n",
       "        1.7800e+01, 3.9283e+02, 4.0300e+00],\n",
       "       [3.2370e-02, 0.0000e+00, 2.1800e+00, 0.0000e+00, 4.5800e-01,\n",
       "        6.9980e+00, 4.5800e+01, 6.0622e+00, 3.0000e+00, 2.2200e+02,\n",
       "        1.8700e+01, 3.9463e+02, 2.9400e+00],\n",
       "       [6.9050e-02, 0.0000e+00, 2.1800e+00, 0.0000e+00, 4.5800e-01,\n",
       "        7.1470e+00, 5.4200e+01, 6.0622e+00, 3.0000e+00, 2.2200e+02,\n",
       "        1.8700e+01, 3.9690e+02, 5.3300e+00]])"
      ]
     },
     "execution_count": 62,
     "metadata": {},
     "output_type": "execute_result"
    }
   ],
   "source": [
    "x[:5]"
   ]
  },
  {
   "cell_type": "code",
   "execution_count": 63,
   "metadata": {},
   "outputs": [
    {
     "data": {
      "text/plain": [
       "array([24. , 21.6, 34.7, 33.4, 36.2])"
      ]
     },
     "execution_count": 63,
     "metadata": {},
     "output_type": "execute_result"
    }
   ],
   "source": [
    "y[:5]"
   ]
  },
  {
   "cell_type": "markdown",
   "metadata": {},
   "source": [
    "### Separar o dataset"
   ]
  },
  {
   "cell_type": "code",
   "execution_count": 64,
   "metadata": {},
   "outputs": [],
   "source": [
    "x_train, x_test, y_train, y_test = train_test_split(x, y, test_size=0.33, random_state=42)"
   ]
  },
  {
   "cell_type": "code",
   "execution_count": 65,
   "metadata": {},
   "outputs": [
    {
     "data": {
      "text/plain": [
       "(339, 13)"
      ]
     },
     "execution_count": 65,
     "metadata": {},
     "output_type": "execute_result"
    }
   ],
   "source": [
    "x_train.shape"
   ]
  },
  {
   "cell_type": "code",
   "execution_count": 67,
   "metadata": {},
   "outputs": [
    {
     "data": {
      "text/plain": [
       "(167, 13)"
      ]
     },
     "execution_count": 67,
     "metadata": {},
     "output_type": "execute_result"
    }
   ],
   "source": [
    "x_test.shape"
   ]
  },
  {
   "cell_type": "markdown",
   "metadata": {},
   "source": [
    "### Treinamento e previsão do modelo Random Forest"
   ]
  },
  {
   "cell_type": "code",
   "execution_count": 68,
   "metadata": {},
   "outputs": [],
   "source": [
    "reg = RandomForestRegressor(max_depth=2, random_state=0).fit(x_train, y_train)\n",
    "pred = reg.predict(x_test)"
   ]
  },
  {
   "cell_type": "markdown",
   "metadata": {},
   "source": [
    "### RMSE"
   ]
  },
  {
   "cell_type": "code",
   "execution_count": 70,
   "metadata": {},
   "outputs": [
    {
     "name": "stdout",
     "output_type": "stream",
     "text": [
      "[24.  21.6 34.7 33.4]\n",
      "[22.56714691 31.21841128 15.12470461 25.99851265]\n"
     ]
    }
   ],
   "source": [
    "print(y[:4])\n",
    "print(pred[:4])"
   ]
  },
  {
   "cell_type": "code",
   "execution_count": 71,
   "metadata": {},
   "outputs": [
    {
     "name": "stdout",
     "output_type": "stream",
     "text": [
      "RMSE Score:  4.51\n"
     ]
    }
   ],
   "source": [
    "print(f'RMSE Score: {mean_squared_error(y_test, pred, squared=False): .2f}')"
   ]
  },
  {
   "cell_type": "markdown",
   "metadata": {},
   "source": [
    "#### Comparar com a média"
   ]
  },
  {
   "cell_type": "code",
   "execution_count": 77,
   "metadata": {},
   "outputs": [
    {
     "data": {
      "text/plain": [
       "[22.97079646017699, 22.97079646017699, 22.97079646017699, 22.97079646017699]"
      ]
     },
     "execution_count": 77,
     "metadata": {},
     "output_type": "execute_result"
    }
   ],
   "source": [
    "m = np.mean(y_train)\n",
    "pred_mean = [m for i in range(len(y_test))]\n",
    "pred_mean[:4]"
   ]
  },
  {
   "cell_type": "code",
   "execution_count": 76,
   "metadata": {},
   "outputs": [
    {
     "name": "stdout",
     "output_type": "stream",
     "text": [
      "RMSE Score:  8.80\n"
     ]
    }
   ],
   "source": [
    "print(f'RMSE Score: {mean_squared_error(y_test, pred_mean, squared=False): .2f}')"
   ]
  },
  {
   "cell_type": "markdown",
   "metadata": {},
   "source": [
    "#### Comparar com a Regressão Linear"
   ]
  },
  {
   "cell_type": "code",
   "execution_count": 79,
   "metadata": {},
   "outputs": [
    {
     "data": {
      "text/plain": [
       "array([28.53469469, 36.6187006 , 15.63751079, 25.5014496 ])"
      ]
     },
     "execution_count": 79,
     "metadata": {},
     "output_type": "execute_result"
    }
   ],
   "source": [
    "reglin = LinearRegression().fit(x_train, y_train)\n",
    "predlin = reglin.predict(x_test)\n",
    "predlin[:4]"
   ]
  },
  {
   "cell_type": "code",
   "execution_count": 80,
   "metadata": {},
   "outputs": [
    {
     "name": "stdout",
     "output_type": "stream",
     "text": [
      "RMSE Score:  4.55\n"
     ]
    }
   ],
   "source": [
    "print(f'RMSE Score: {mean_squared_error(y_test, predlin, squared=False): .2f}')"
   ]
  },
  {
   "cell_type": "markdown",
   "metadata": {},
   "source": [
    "### R² e MAE"
   ]
  },
  {
   "cell_type": "code",
   "execution_count": 83,
   "metadata": {},
   "outputs": [
    {
     "name": "stdout",
     "output_type": "stream",
     "text": [
      "R² Score:  0.95 \n",
      "MAE:       0.50\n"
     ]
    }
   ],
   "source": [
    "y_true = [3, -0.5, 2, 7]\n",
    "y_pred = [2.5, 0.0, 2, 8]\n",
    "\n",
    "print(f'R² Score: {r2_score(y_true, y_pred): .2f} \\n'\n",
    "      f'MAE:      {mean_absolute_error(y_true, y_pred): .2f}')"
   ]
  },
  {
   "cell_type": "markdown",
   "metadata": {},
   "source": [
    "## Outliers"
   ]
  },
  {
   "cell_type": "code",
   "execution_count": 17,
   "metadata": {},
   "outputs": [
    {
     "name": "stderr",
     "output_type": "stream",
     "text": [
      "c:\\Users\\bruna\\anaconda3\\lib\\site-packages\\sklearn\\utils\\deprecation.py:87: FutureWarning: Function load_boston is deprecated; `load_boston` is deprecated in 1.0 and will be removed in 1.2.\n",
      "\n",
      "    The Boston housing prices dataset has an ethical problem. You can refer to\n",
      "    the documentation of this function for further details.\n",
      "\n",
      "    The scikit-learn maintainers therefore strongly discourage the use of this\n",
      "    dataset unless the purpose of the code is to study and educate about\n",
      "    ethical issues in data science and machine learning.\n",
      "\n",
      "    In this special case, you can fetch the dataset from the original\n",
      "    source::\n",
      "\n",
      "        import pandas as pd\n",
      "        import numpy as np\n",
      "\n",
      "\n",
      "        data_url = \"http://lib.stat.cmu.edu/datasets/boston\"\n",
      "        raw_df = pd.read_csv(data_url, sep=\"\\s+\", skiprows=22, header=None)\n",
      "        data = np.hstack([raw_df.values[::2, :], raw_df.values[1::2, :2]])\n",
      "        target = raw_df.values[1::2, 2]\n",
      "\n",
      "    Alternative datasets include the California housing dataset (i.e.\n",
      "    :func:`~sklearn.datasets.fetch_california_housing`) and the Ames housing\n",
      "    dataset. You can load the datasets as follows::\n",
      "\n",
      "        from sklearn.datasets import fetch_california_housing\n",
      "        housing = fetch_california_housing()\n",
      "\n",
      "    for the California housing dataset and::\n",
      "\n",
      "        from sklearn.datasets import fetch_openml\n",
      "        housing = fetch_openml(name=\"house_prices\", as_frame=True)\n",
      "\n",
      "    for the Ames housing dataset.\n",
      "    \n",
      "  warnings.warn(msg, category=FutureWarning)\n"
     ]
    }
   ],
   "source": [
    "dataset = load_boston()\n",
    "\n",
    "df = pd.DataFrame(dataset.data)\n",
    "df.columns = dataset.feature_names\n",
    "df['PRICE'] = pd.DataFrame(dataset.target)"
   ]
  },
  {
   "cell_type": "code",
   "execution_count": 18,
   "metadata": {},
   "outputs": [],
   "source": [
    "x = df.drop(columns='PRICE')\n",
    "y =  df[['PRICE']]"
   ]
  },
  {
   "cell_type": "code",
   "execution_count": 19,
   "metadata": {},
   "outputs": [],
   "source": [
    "x_Train, x_Test, y_Train, y_Test = train_test_split(x, y, test_size=0.33, random_state=42)\n",
    "\n",
    "data = (x_Train, x_Test, y_Train, y_Test)\n",
    "\n",
    "for d in data:\n",
    "    d.reset_index(drop=True, inplace=True)"
   ]
  },
  {
   "cell_type": "code",
   "execution_count": 20,
   "metadata": {},
   "outputs": [
    {
     "data": {
      "text/plain": [
       "(339, 13)"
      ]
     },
     "execution_count": 20,
     "metadata": {},
     "output_type": "execute_result"
    }
   ],
   "source": [
    "x_Train.shape"
   ]
  },
  {
   "cell_type": "code",
   "execution_count": 21,
   "metadata": {},
   "outputs": [],
   "source": [
    "x_Train_outlier = x_Train.copy()"
   ]
  },
  {
   "cell_type": "code",
   "execution_count": 22,
   "metadata": {},
   "outputs": [
    {
     "data": {
      "image/png": "[encoded data removed]",
      "text/plain": [
       "<Figure size 1440x2160 with 13 Axes>"
      ]
     },
     "metadata": {
      "needs_background": "light"
     },
     "output_type": "display_data"
    }
   ],
   "source": [
    "import matplotlib.gridspec as gridspec\n",
    "\n",
    "def draw_boxplots(df, selected_features):\n",
    "  n = len(selected_features)\n",
    "  fig = plt.figure(constrained_layout=True, figsize=(20, 30))\n",
    "  gs = gridspec.GridSpec(int(n/3) + 1, 3, figure=fig)\n",
    "  for i in range(n):\n",
    "    k = int(i / 3)\n",
    "    j = i % 3\n",
    "    col = selected_features[i]\n",
    "    ax = fig.add_subplot(gs[k, j])\n",
    "    ax.set_title(col)\n",
    "    ax.boxplot(df[col])\n",
    "\n",
    "draw_boxplots(x_Train, x_Train.columns)"
   ]
  },
  {
   "cell_type": "code",
   "execution_count": 23,
   "metadata": {},
   "outputs": [],
   "source": [
    "-def replace_outliers(df, var_names):\n",
    "  for var_name in var_names:\n",
    "    # calculating Q1 and Q3\n",
    "    Q1 = df.loc[:,var_name].quantile(0.25)\n",
    "    Q3 = df.loc[:,var_name].quantile(0.75)\n",
    "    # calculating Interquartile IQR\n",
    "    IQR = Q3 - Q1\n",
    "    # build up filter\n",
    "    filter_up = (df.loc[:,var_name] > Q3 + 1.5 *IQR)\n",
    "    # apply up filter on df\n",
    "    df.loc[filter_up, var_name] = Q3 + 1.5 *IQR\n",
    "    # build down filter\n",
    "    filter_down = (df.loc[:,var_name] < Q1 - 1.5 * IQR)\n",
    "    # apply down filter on df\n",
    "    df.loc[filter_down, var_name] = Q1 - 1.5 * IQR"
   ]
  },
  {
   "cell_type": "code",
   "execution_count": 24,
   "metadata": {},
   "outputs": [
    {
     "data": {
      "image/png": "[encoded data removed]",
      "text/plain": [
       "<Figure size 1440x2160 with 13 Axes>"
      ]
     },
     "metadata": {
      "needs_background": "light"
     },
     "output_type": "display_data"
    }
   ],
   "source": [
    "replace_outliers(x_Train, x_Train.columns)\n",
    "draw_boxplots(x_Train, x_Train.columns)"
   ]
  },
  {
   "cell_type": "code",
   "execution_count": 28,
   "metadata": {},
   "outputs": [
    {
     "data": {
      "text/html": [
       "<div>\n",
       "<style scoped>\n",
       "    .dataframe tbody tr th:only-of-type {\n",
       "        vertical-align: middle;\n",
       "    }\n",
       "\n",
       "    .dataframe tbody tr th {\n",
       "        vertical-align: top;\n",
       "    }\n",
       "\n",
       "    .dataframe thead th {\n",
       "        text-align: right;\n",
       "    }\n",
       "</style>\n",
       "<table border=\"1\" class=\"dataframe\">\n",
       "  <thead>\n",
       "    <tr style=\"text-align: right;\">\n",
       "      <th></th>\n",
       "      <th>CRIM</th>\n",
       "    </tr>\n",
       "  </thead>\n",
       "  <tbody>\n",
       "    <tr>\n",
       "      <th>0</th>\n",
       "      <td>0.00632</td>\n",
       "    </tr>\n",
       "    <tr>\n",
       "      <th>1</th>\n",
       "      <td>0.02731</td>\n",
       "    </tr>\n",
       "    <tr>\n",
       "      <th>2</th>\n",
       "      <td>0.02729</td>\n",
       "    </tr>\n",
       "    <tr>\n",
       "      <th>3</th>\n",
       "      <td>0.03237</td>\n",
       "    </tr>\n",
       "    <tr>\n",
       "      <th>4</th>\n",
       "      <td>0.06905</td>\n",
       "    </tr>\n",
       "    <tr>\n",
       "      <th>...</th>\n",
       "      <td>...</td>\n",
       "    </tr>\n",
       "    <tr>\n",
       "      <th>501</th>\n",
       "      <td>0.06263</td>\n",
       "    </tr>\n",
       "    <tr>\n",
       "      <th>502</th>\n",
       "      <td>0.04527</td>\n",
       "    </tr>\n",
       "    <tr>\n",
       "      <th>503</th>\n",
       "      <td>0.06076</td>\n",
       "    </tr>\n",
       "    <tr>\n",
       "      <th>504</th>\n",
       "      <td>0.10959</td>\n",
       "    </tr>\n",
       "    <tr>\n",
       "      <th>505</th>\n",
       "      <td>0.04741</td>\n",
       "    </tr>\n",
       "  </tbody>\n",
       "</table>\n",
       "<p>506 rows × 1 columns</p>\n",
       "</div>"
      ],
      "text/plain": [
       "        CRIM\n",
       "0    0.00632\n",
       "1    0.02731\n",
       "2    0.02729\n",
       "3    0.03237\n",
       "4    0.06905\n",
       "..       ...\n",
       "501  0.06263\n",
       "502  0.04527\n",
       "503  0.06076\n",
       "504  0.10959\n",
       "505  0.04741\n",
       "\n",
       "[506 rows x 1 columns]"
      ]
     },
     "execution_count": 28,
     "metadata": {},
     "output_type": "execute_result"
    }
   ],
   "source": [
    "x[['CRIM']]\n"
   ]
  },
  {
   "cell_type": "code",
   "execution_count": 29,
   "metadata": {},
   "outputs": [
    {
     "data": {
      "text/plain": [
       "<AxesSubplot:xlabel='CRIM', ylabel='PRICE'>"
      ]
     },
     "execution_count": 29,
     "metadata": {},
     "output_type": "execute_result"
    },
    {
     "data": {
      "image/png": "[encoded data removed]",
      "text/plain": [
       "<Figure size 432x288 with 1 Axes>"
      ]
     },
     "metadata": {
      "needs_background": "light"
     },
     "output_type": "display_data"
    }
   ],
   "source": [
    "import seaborn as sns\n",
    "\n",
    "sns.scatterplot(data=df, x='CRIM', y='PRICE')"
   ]
  },
  {
   "cell_type": "code",
   "execution_count": 34,
   "metadata": {},
   "outputs": [
    {
     "data": {
      "text/plain": [
       "<seaborn.axisgrid.PairGrid at 0x1aa2ff9dd90>"
      ]
     },
     "execution_count": 34,
     "metadata": {},
     "output_type": "execute_result"
    },
    {
     "data": {
      "image/png": "[encoded data removed]",
      "text/plain": [
       "<Figure size 180x2520 with 15 Axes>"
      ]
     },
     "metadata": {
      "needs_background": "light"
     },
     "output_type": "display_data"
    }
   ],
   "source": [
    "sns.pairplot(df, x_vars='PRICE')"
   ]
  },
  {
   "cell_type": "code",
   "execution_count": null,
   "metadata": {},
   "outputs": [],
   "source": []
  }
 ],
 "metadata": {
  "interpreter": {
   "hash": "4e60cdb8ba153bdc93d2171cdb90be637a72ff611686ac5e44fd34ebe914ba74"
  },
  "kernelspec": {
   "display_name": "Python 3.9.7 ('base')",
   "language": "python",
   "name": "python3"
  },
  "language_info": {
   "codemirror_mode": {
    "name": "ipython",
    "version": 3
   },
   "file_extension": ".py",
   "mimetype": "text/x-python",
   "name": "python",
   "nbconvert_exporter": "python",
   "pygments_lexer": "ipython3",
   "version": "3.9.7"
  },
  "orig_nbformat": 4
 },
 "nbformat": 4,
 "nbformat_minor": 2
}
